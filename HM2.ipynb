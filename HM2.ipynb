{
 "cells": [
  {
   "cell_type": "markdown",
   "metadata": {},
   "source": [
    "# HM2: Numerical Optimization for Logistic Regression.\n",
    "\n",
    "### Name: [Your-Name?]\n"
   ]
  },
  {
   "cell_type": "markdown",
   "metadata": {},
   "source": [
    "## 0. You will do the following:\n",
    "\n",
    "1. Read the lecture note: [click here](https://github.com/wangshusen/DeepLearning/blob/master/LectureNotes/Logistic/paper/logistic.pdf)\n",
    "\n",
    "2. Read, complete, and run my code.\n",
    "\n",
    "3. **Implement mini-batch SGD** and evaluate the performance.\n",
    "\n",
    "4. Convert the .IPYNB file to .HTML file.\n",
    "\n",
    "    * The HTML file must contain **the code** and **the output after execution**.\n",
    "    \n",
    "    * Missing **the output after execution** will not be graded.\n",
    "    \n",
    "5. Upload this .HTML file to your Google Drive, Dropbox, or your Github repo.  (If you submit the file to Google Drive or Dropbox, you must make the file \"open-access\". The delay caused by \"deny of access\" may result in late penalty.)\n",
    "\n",
    "6. Submit the link to this .HTML file to Canvas.\n",
    "\n",
    "    * Example: https://github.com/wangshusen/CS583-2020S/blob/master/homework/HM2/HM2.html\n",
    "\n",
    "\n",
    "## Grading criteria:\n",
    "\n",
    "1. When computing the ```gradient``` and ```objective function value``` using a batch of samples, use **matrix-vector multiplication** rather than a FOR LOOP of **vector-vector multiplications**.\n",
    "\n",
    "2. Plot ```objective function value``` against ```epochs```. In the plot, compare GD, SGD, and MB-SGD (with $b=8$ and $b=64$). The plot must look reasonable."
   ]
  },
  {
   "cell_type": "code",
   "execution_count": null,
   "metadata": {},
   "outputs": [],
   "source": []
  },
  {
   "cell_type": "markdown",
   "metadata": {},
   "source": [
    "# 1. Data processing\n",
    "\n",
    "- Download the Diabete dataset from https://www.csie.ntu.edu.tw/~cjlin/libsvmtools/datasets/binary/diabetes\n",
    "- Load the data using sklearn.\n",
    "- Preprocess the data."
   ]
  },
  {
   "cell_type": "markdown",
   "metadata": {},
   "source": [
    "## 1.1. Load the data"
   ]
  },
  {
   "cell_type": "code",
   "execution_count": 1,
   "metadata": {},
   "outputs": [
    {
     "name": "stdout",
     "output_type": "stream",
     "text": [
      "Shape of x: (768, 8)\n",
      "Shape of y: (768,)\n"
     ]
    }
   ],
   "source": [
    "from sklearn import datasets\n",
    "import numpy\n",
    "\n",
    "x_sparse, y = datasets.load_svmlight_file('diabetes')\n",
    "x = x_sparse.todense()\n",
    "\n",
    "print('Shape of x: ' + str(x.shape))\n",
    "print('Shape of y: ' + str(y.shape))"
   ]
  },
  {
   "cell_type": "markdown",
   "metadata": {},
   "source": [
    "## 1.2. Partition to training and test sets"
   ]
  },
  {
   "cell_type": "code",
   "execution_count": 2,
   "metadata": {},
   "outputs": [
    {
     "name": "stdout",
     "output_type": "stream",
     "text": [
      "Shape of x_train: (640, 8)\n",
      "Shape of x_test: (128, 8)\n",
      "Shape of y_train: (640, 1)\n",
      "Shape of y_test: (128, 1)\n"
     ]
    }
   ],
   "source": [
    "# partition the data to training and test sets\n",
    "n = x.shape[0]\n",
    "n_train = 640\n",
    "n_test = n - n_train\n",
    "\n",
    "rand_indices = numpy.random.permutation(n)\n",
    "train_indices = rand_indices[0:n_train]\n",
    "test_indices = rand_indices[n_train:n]\n",
    "\n",
    "x_train = x[train_indices, :]\n",
    "x_test = x[test_indices, :]\n",
    "y_train = y[train_indices].reshape(n_train, 1)\n",
    "y_test = y[test_indices].reshape(n_test, 1)\n",
    "\n",
    "print('Shape of x_train: ' + str(x_train.shape))\n",
    "print('Shape of x_test: ' + str(x_test.shape))\n",
    "print('Shape of y_train: ' + str(y_train.shape))\n",
    "print('Shape of y_test: ' + str(y_test.shape))"
   ]
  },
  {
   "cell_type": "markdown",
   "metadata": {},
   "source": [
    "## 1.3. Feature scaling"
   ]
  },
  {
   "cell_type": "markdown",
   "metadata": {},
   "source": [
    "Use the standardization to trainsform both training and test features"
   ]
  },
  {
   "cell_type": "code",
   "execution_count": 3,
   "metadata": {},
   "outputs": [
    {
     "name": "stdout",
     "output_type": "stream",
     "text": [
      "test mean = \n",
      "[[-0.19257131  0.09008962 -0.03061042  0.07462015 -0.06950486  0.04952439\n",
      "   0.12580255 -0.12090555]]\n",
      "test std = \n",
      "[[0.98465389 1.00722496 0.86723082 1.07014199 0.74272628 1.06598229\n",
      "  1.12704093 1.02294706]]\n"
     ]
    }
   ],
   "source": [
    "# Standardization\n",
    "import numpy\n",
    "\n",
    "# calculate mu and sig using the training set\n",
    "d = x_train.shape[1]\n",
    "mu = numpy.mean(x_train, axis=0).reshape(1, d)\n",
    "sig = numpy.std(x_train, axis=0).reshape(1, d)\n",
    "\n",
    "# transform the training features\n",
    "x_train = (x_train - mu) / (sig + 1E-6)\n",
    "\n",
    "# transform the test features\n",
    "x_test = (x_test - mu) / (sig + 1E-6)\n",
    "\n",
    "print('test mean = ')\n",
    "print(numpy.mean(x_test, axis=0))\n",
    "\n",
    "print('test std = ')\n",
    "print(numpy.std(x_test, axis=0))"
   ]
  },
  {
   "cell_type": "markdown",
   "metadata": {},
   "source": [
    "## 1.4. Add a dimension of all ones"
   ]
  },
  {
   "cell_type": "code",
   "execution_count": 4,
   "metadata": {},
   "outputs": [
    {
     "name": "stdout",
     "output_type": "stream",
     "text": [
      "Shape of x_train: (640, 9)\n",
      "Shape of x_test: (128, 9)\n"
     ]
    }
   ],
   "source": [
    "n_train, d = x_train.shape\n",
    "x_train = numpy.concatenate((x_train, numpy.ones((n_train, 1))), axis=1)\n",
    "\n",
    "n_test, d = x_test.shape\n",
    "x_test = numpy.concatenate((x_test, numpy.ones((n_test, 1))), axis=1)\n",
    "\n",
    "print('Shape of x_train: ' + str(x_train.shape))\n",
    "print('Shape of x_test: ' + str(x_test.shape))"
   ]
  },
  {
   "cell_type": "markdown",
   "metadata": {},
   "source": [
    "# 2. Logistic regression model\n",
    "\n",
    "The objective function is $Q (w; X, y) = \\frac{1}{n} \\sum_{i=1}^n \\log \\Big( 1 + \\exp \\big( - y_i x_i^T w \\big) \\Big) + \\frac{\\lambda}{2} \\| w \\|_2^2 $."
   ]
  },
  {
   "cell_type": "code",
   "execution_count": 5,
   "metadata": {},
   "outputs": [],
   "source": [
    "# Calculate the objective function value\n",
    "# Inputs:\n",
    "#     w: d-by-1 matrix\n",
    "#     x: n-by-d matrix\n",
    "#     y: n-by-1 matrix\n",
    "#     lam: scalar, the regularization parameter\n",
    "# Return:\n",
    "#     objective function value (scalar)\n",
    "def objective(w, x, y, lam):\n",
    "    n, d = x.shape\n",
    "    yx = numpy.multiply(y, x) # n-by-d matrix\n",
    "    yxw = numpy.dot(yx, w) # n-by-1 matrix\n",
    "    vec1 = numpy.exp(-yxw) # n-by-1 matrix\n",
    "    vec2 = numpy.log(1 + vec1) # n-by-1 matrix\n",
    "    loss = numpy.mean(vec2) # scalar\n",
    "    reg = lam / 2 * numpy.sum(w * w) # scalar\n",
    "    return loss + reg\n",
    "    "
   ]
  },
  {
   "cell_type": "code",
   "execution_count": 6,
   "metadata": {},
   "outputs": [
    {
     "name": "stdout",
     "output_type": "stream",
     "text": [
      "Initial objective function value = 0.6931471805599453\n"
     ]
    }
   ],
   "source": [
    "# initialize w\n",
    "d = x_train.shape[1]\n",
    "w = numpy.zeros((d, 1))\n",
    "\n",
    "# evaluate the objective function value at w\n",
    "lam = 1E-6\n",
    "objval0 = objective(w, x_train, y_train, lam)\n",
    "print('Initial objective function value = ' + str(objval0))"
   ]
  },
  {
   "cell_type": "markdown",
   "metadata": {},
   "source": [
    "# 3. Numerical optimization"
   ]
  },
  {
   "cell_type": "markdown",
   "metadata": {},
   "source": [
    "## 3.1. Gradient descent\n"
   ]
  },
  {
   "cell_type": "markdown",
   "metadata": {},
   "source": [
    "The gradient at $w$ is $g = - \\frac{1}{n} \\sum_{i=1}^n \\frac{y_i x_i }{1 + \\exp ( y_i x_i^T w)} + \\lambda w$"
   ]
  },
  {
   "cell_type": "code",
   "execution_count": 7,
   "metadata": {},
   "outputs": [],
   "source": [
    "# Calculate the gradient\n",
    "# Inputs:\n",
    "#     w: d-by-1 matrix\n",
    "#     x: n-by-d matrix\n",
    "#     y: n-by-1 matrix\n",
    "#     lam: scalar, the regularization parameter\n",
    "# Return:\n",
    "#     g: g: d-by-1 matrix, full gradient\n",
    "def gradient(w, x, y, lam):\n",
    "    n, d = x.shape\n",
    "    yx = numpy.multiply(y, x) # n-by-d matrix\n",
    "    yxw = numpy.dot(yx, w) # n-by-1 matrix\n",
    "    vec1 = numpy.exp(yxw) # n-by-1 matrix\n",
    "    vec2 = numpy.divide(yx, 1+vec1) # n-by-d matrix\n",
    "    vec3 = -numpy.mean(vec2, axis=0).reshape(d, 1) # d-by-1 matrix\n",
    "    g = vec3 + lam * w\n",
    "    return g"
   ]
  },
  {
   "cell_type": "code",
   "execution_count": 8,
   "metadata": {},
   "outputs": [],
   "source": [
    "# Gradient descent for solving logistic regression\n",
    "# Inputs:\n",
    "#     x: n-by-d matrix\n",
    "#     y: n-by-1 matrix\n",
    "#     lam: scalar, the regularization parameter\n",
    "#     stepsize: scalar\n",
    "#     max_iter: integer, the maximal iterations\n",
    "#     w: d-by-1 matrix, initialization of w\n",
    "# Return:\n",
    "#     w: d-by-1 matrix, the solution\n",
    "#     objvals: a record of each iteration's objective value\n",
    "def grad_descent(x, y, lam, stepsize, max_iter=100, w=None):\n",
    "    n, d = x.shape\n",
    "    objvals = numpy.zeros(max_iter) # store the objective values\n",
    "    if w is None:\n",
    "        w = numpy.zeros((d, 1)) # zero initialization\n",
    "    \n",
    "    for t in range(max_iter):\n",
    "        objval = objective(w, x, y, lam)\n",
    "        objvals[t] = objval\n",
    "        print('Objective value at t=' + str(t) + ' is ' + str(objval))\n",
    "        g = gradient(w, x, y, lam)\n",
    "        w -= stepsize * g\n",
    "    \n",
    "    return w, objvals"
   ]
  },
  {
   "cell_type": "markdown",
   "metadata": {},
   "source": [
    "Run gradient descent."
   ]
  },
  {
   "cell_type": "code",
   "execution_count": 69,
   "metadata": {},
   "outputs": [
    {
     "name": "stdout",
     "output_type": "stream",
     "text": [
      "Objective value at t=0 is 0.6931471805599453\n",
      "Objective value at t=1 is 0.5826747655074532\n",
      "Objective value at t=2 is 0.5377429651104083\n",
      "Objective value at t=3 is 0.5133915280511221\n",
      "Objective value at t=4 is 0.4980066958690658\n",
      "Objective value at t=5 is 0.4874247853726484\n",
      "Objective value at t=6 is 0.4797544667462603\n",
      "Objective value at t=7 is 0.47399455122573747\n",
      "Objective value at t=8 is 0.4695573145136932\n",
      "Objective value at t=9 is 0.46607181598585185\n",
      "Objective value at t=10 is 0.4632913046125477\n",
      "Objective value at t=11 is 0.4610450288908689\n",
      "Objective value at t=12 is 0.4592111388012689\n",
      "Objective value at t=13 is 0.45770050222175035\n",
      "Objective value at t=14 is 0.4564465707290579\n",
      "Objective value at t=15 is 0.455398788641592\n",
      "Objective value at t=16 is 0.4545181720985485\n",
      "Objective value at t=17 is 0.4537742664516488\n",
      "Objective value at t=18 is 0.45314300590820134\n",
      "Objective value at t=19 is 0.45260517900489394\n",
      "Objective value at t=20 is 0.45214530985864826\n",
      "Objective value at t=21 is 0.45175083026169616\n",
      "Objective value at t=22 is 0.45141145870424265\n",
      "Objective value at t=23 is 0.4511187288792569\n",
      "Objective value at t=24 is 0.45086562767423993\n",
      "Objective value at t=25 is 0.4506463143758177\n",
      "Objective value at t=26 is 0.45045590081878345\n",
      "Objective value at t=27 is 0.45029027776299885\n",
      "Objective value at t=28 is 0.45014597668537565\n",
      "Objective value at t=29 is 0.4500200589545759\n",
      "Objective value at t=30 is 0.4499100263600355\n",
      "Objective value at t=31 is 0.4498137484273799\n",
      "Objective value at t=32 is 0.44972940302778247\n",
      "Objective value at t=33 is 0.449655427588559\n",
      "Objective value at t=34 is 0.44959047881247427\n",
      "Objective value at t=35 is 0.44953339926758024\n",
      "Objective value at t=36 is 0.44948318955614175\n",
      "Objective value at t=37 is 0.4494389850378972\n",
      "Objective value at t=38 is 0.44940003628949976\n",
      "Objective value at t=39 is 0.44936569264314846\n",
      "Objective value at t=40 is 0.44933538827395736\n",
      "Objective value at t=41 is 0.44930863040557856\n",
      "Objective value at t=42 is 0.4492849892830265\n",
      "Objective value at t=43 is 0.44926408962512404\n",
      "Objective value at t=44 is 0.4492456033199656\n",
      "Objective value at t=45 is 0.4492292431679486\n",
      "Objective value at t=46 is 0.4492147575102917\n",
      "Objective value at t=47 is 0.44920192560814526\n",
      "Objective value at t=48 is 0.4491905536596406\n",
      "Objective value at t=49 is 0.4491804713604906\n",
      "Objective value at t=50 is 0.4491715289288153\n",
      "Objective value at t=51 is 0.4491635945273286\n",
      "Objective value at t=52 is 0.449156552026374\n",
      "Objective value at t=53 is 0.4491502990599145\n",
      "Objective value at t=54 is 0.4491447453337925\n",
      "Objective value at t=55 is 0.4491398111516092\n",
      "Objective value at t=56 is 0.4491354261286559\n",
      "Objective value at t=57 is 0.44913152806860285\n",
      "Objective value at t=58 is 0.4491280619812704\n",
      "Objective value at t=59 is 0.4491249792228707\n",
      "Objective value at t=60 is 0.44912223674270707\n",
      "Objective value at t=61 is 0.44911979642253325\n",
      "Objective value at t=62 is 0.4491176244966616\n",
      "Objective value at t=63 is 0.44911569104252386\n",
      "Objective value at t=64 is 0.4491139695327662\n",
      "Objective value at t=65 is 0.4491124364411521\n",
      "Objective value at t=66 is 0.4491110708955557\n",
      "Objective value at t=67 is 0.449109854372212\n",
      "Objective value at t=68 is 0.44910877042614555\n",
      "Objective value at t=69 is 0.44910780445334747\n",
      "Objective value at t=70 is 0.4491069434808396\n",
      "Objective value at t=71 is 0.4491061759812543\n",
      "Objective value at t=72 is 0.449105491708976\n",
      "Objective value at t=73 is 0.4491048815552674\n",
      "Objective value at t=74 is 0.4491043374201178\n",
      "Objective value at t=75 is 0.4491038520988306\n",
      "Objective value at t=76 is 0.4491034191816114\n",
      "Objective value at t=77 is 0.4491030329646302\n",
      "Objective value at t=78 is 0.44910268837121337\n",
      "Objective value at t=79 is 0.44910238088198573\n",
      "Objective value at t=80 is 0.44910210647292464\n",
      "Objective value at t=81 is 0.44910186156040993\n",
      "Objective value at t=82 is 0.44910164295246324\n",
      "Objective value at t=83 is 0.4491014478054673\n",
      "Objective value at t=84 is 0.4491012735857354\n",
      "Objective value at t=85 is 0.44910111803538\n",
      "Objective value at t=86 is 0.449100979141989\n",
      "Objective value at t=87 is 0.4491008551116796\n",
      "Objective value at t=88 is 0.44910074434514563\n",
      "Objective value at t=89 is 0.4491006454163622\n",
      "Objective value at t=90 is 0.44910055705364693\n",
      "Objective value at t=91 is 0.44910047812281456\n",
      "Objective value at t=92 is 0.44910040761218945\n",
      "Objective value at t=93 is 0.44910034461926857\n",
      "Objective value at t=94 is 0.4491002883388507\n",
      "Objective value at t=95 is 0.4491002380524688\n",
      "Objective value at t=96 is 0.4491001931189812\n",
      "Objective value at t=97 is 0.4491001529661911\n",
      "Objective value at t=98 is 0.4491001170833846\n",
      "Objective value at t=99 is 0.4491000850146805\n"
     ]
    }
   ],
   "source": [
    "lam = 1E-6\n",
    "stepsize = 1.0\n",
    "w, objvals_gd = grad_descent(x_train, y_train, lam, stepsize)"
   ]
  },
  {
   "cell_type": "markdown",
   "metadata": {},
   "source": [
    "## 3.2. Stochastic gradient descent (SGD)\n",
    "\n",
    "Define $Q_i (w) = \\log \\Big( 1 + \\exp \\big( - y_i x_i^T w \\big) \\Big) + \\frac{\\lambda}{2} \\| w \\|_2^2 $.\n",
    "\n",
    "The stochastic gradient at $w$ is $g_i = \\frac{\\partial Q_i }{ \\partial w} = -\\frac{y_i x_i }{1 + \\exp ( y_i x_i^T w)} + \\lambda w$."
   ]
  },
  {
   "cell_type": "code",
   "execution_count": 70,
   "metadata": {},
   "outputs": [],
   "source": [
    "# Calculate the objective Q_i and the gradient of Q_i\n",
    "# Inputs:\n",
    "#     w: d-by-1 matrix\n",
    "#     xi: 1-by-d matrix\n",
    "#     yi: scalar\n",
    "#     lam: scalar, the regularization parameter\n",
    "# Return:\n",
    "#     obj: scalar, the objective Q_i\n",
    "#     g: d-by-1 matrix, gradient of Q_i\n",
    "def stochastic_objective_gradient(w, xi, yi, lam):\n",
    "    d = xi.shape[0]\n",
    "    yx = yi * xi # 1-by-d matrix\n",
    "    yxw = float(numpy.dot(yx, w)) # scalar\n",
    "    \n",
    "    # calculate objective function Q_i\n",
    "    loss = numpy.log(1 + numpy.exp(-yxw)) # scalar\n",
    "    reg = lam / 2 * numpy.sum(w * w) # scalar\n",
    "    obj = loss + reg\n",
    "    \n",
    "    # calculate stochastic gradient\n",
    "    g_loss = -yx.T / (1 + numpy.exp(yxw)) # d-by-1 matrix\n",
    "    g = g_loss + lam * w # d-by-1 matrix\n",
    "    \n",
    "    return obj, g"
   ]
  },
  {
   "cell_type": "code",
   "execution_count": 71,
   "metadata": {},
   "outputs": [],
   "source": [
    "# SGD for solving logistic regression\n",
    "# Inputs:\n",
    "#     x: n-by-d matrix\n",
    "#     y: n-by-1 matrix\n",
    "#     lam: scalar, the regularization parameter\n",
    "#     stepsize: scalar\n",
    "#     max_epoch: integer, the maximal epochs\n",
    "#     w: d-by-1 matrix, initialization of w\n",
    "# Return:\n",
    "#     w: the solution\n",
    "#     objvals: record of each iteration's objective value\n",
    "def sgd(x, y, lam, stepsize, max_epoch=100, w=None):\n",
    "    n, d = x.shape\n",
    "    objvals = numpy.zeros(max_epoch) # store the objective values\n",
    "    if w is None:\n",
    "        w = numpy.zeros((d, 1)) # zero initialization\n",
    "    \n",
    "    for t in range(max_epoch):\n",
    "        # randomly shuffle the samples\n",
    "        rand_indices = numpy.random.permutation(n)\n",
    "        x_rand = x[rand_indices, :]\n",
    "        y_rand = y[rand_indices, :]\n",
    "        \n",
    "        objval = 0 # accumulate the objective values\n",
    "        for i in range(n):\n",
    "            xi = x_rand[i, :] # 1-by-d matrix\n",
    "            yi = float(y_rand[i, :]) # scalar\n",
    "            obj, g = stochastic_objective_gradient(w, xi, yi, lam)\n",
    "            objval += obj\n",
    "            w -= stepsize * g\n",
    "        \n",
    "        stepsize *= 0.9 # decrease step size\n",
    "        objval /= n\n",
    "        objvals[t] = objval\n",
    "        print('Objective value at epoch t=' + str(t) + ' is ' + str(objval))\n",
    "    \n",
    "    return w, objvals"
   ]
  },
  {
   "cell_type": "markdown",
   "metadata": {},
   "source": [
    "Run SGD."
   ]
  },
  {
   "cell_type": "code",
   "execution_count": 72,
   "metadata": {},
   "outputs": [
    {
     "name": "stdout",
     "output_type": "stream",
     "text": [
      "Objective value at epoch t=0 is 0.5063444526088815\n",
      "Objective value at epoch t=1 is 0.49600972705186885\n",
      "Objective value at epoch t=2 is 0.48323133950397984\n",
      "Objective value at epoch t=3 is 0.48764197933384323\n",
      "Objective value at epoch t=4 is 0.48418597139990877\n",
      "Objective value at epoch t=5 is 0.4816377941301436\n",
      "Objective value at epoch t=6 is 0.47627074178046025\n",
      "Objective value at epoch t=7 is 0.4728523588233508\n",
      "Objective value at epoch t=8 is 0.4723102766406383\n",
      "Objective value at epoch t=9 is 0.4700613597828692\n",
      "Objective value at epoch t=10 is 0.4724222478774466\n",
      "Objective value at epoch t=11 is 0.46690918414084576\n",
      "Objective value at epoch t=12 is 0.4638617500060945\n",
      "Objective value at epoch t=13 is 0.46334195253624866\n",
      "Objective value at epoch t=14 is 0.46346355542821344\n",
      "Objective value at epoch t=15 is 0.46079171050370415\n",
      "Objective value at epoch t=16 is 0.4604101131916633\n",
      "Objective value at epoch t=17 is 0.4585846297411743\n",
      "Objective value at epoch t=18 is 0.45891007491362845\n",
      "Objective value at epoch t=19 is 0.4571229605858136\n",
      "Objective value at epoch t=20 is 0.45656588564980066\n",
      "Objective value at epoch t=21 is 0.45474999783822956\n",
      "Objective value at epoch t=22 is 0.4550651172595586\n",
      "Objective value at epoch t=23 is 0.4549723666003511\n",
      "Objective value at epoch t=24 is 0.45379600247109975\n",
      "Objective value at epoch t=25 is 0.45349539260901306\n",
      "Objective value at epoch t=26 is 0.45334848071855277\n",
      "Objective value at epoch t=27 is 0.4530891897069592\n",
      "Objective value at epoch t=28 is 0.4525910555234006\n",
      "Objective value at epoch t=29 is 0.452296210821446\n",
      "Objective value at epoch t=30 is 0.4519898231763758\n",
      "Objective value at epoch t=31 is 0.45152893445330317\n",
      "Objective value at epoch t=32 is 0.4511992548452489\n",
      "Objective value at epoch t=33 is 0.45107336026434214\n",
      "Objective value at epoch t=34 is 0.45101027972833146\n",
      "Objective value at epoch t=35 is 0.45082451542743457\n",
      "Objective value at epoch t=36 is 0.4506350077649811\n",
      "Objective value at epoch t=37 is 0.4505074615054515\n",
      "Objective value at epoch t=38 is 0.4503758797633794\n",
      "Objective value at epoch t=39 is 0.45024397288836404\n",
      "Objective value at epoch t=40 is 0.45012515492916527\n",
      "Objective value at epoch t=41 is 0.45003345118990634\n",
      "Objective value at epoch t=42 is 0.4499357778437315\n",
      "Objective value at epoch t=43 is 0.4498473002211026\n",
      "Objective value at epoch t=44 is 0.4497749947267658\n",
      "Objective value at epoch t=45 is 0.4497000721516901\n",
      "Objective value at epoch t=46 is 0.4496526877655726\n",
      "Objective value at epoch t=47 is 0.4495993716021731\n",
      "Objective value at epoch t=48 is 0.44954768609150175\n",
      "Objective value at epoch t=49 is 0.44950479204418736\n",
      "Objective value at epoch t=50 is 0.4494651309777608\n",
      "Objective value at epoch t=51 is 0.4494289730634873\n",
      "Objective value at epoch t=52 is 0.44939453863334944\n",
      "Objective value at epoch t=53 is 0.4493662451960039\n",
      "Objective value at epoch t=54 is 0.4493395592196342\n",
      "Objective value at epoch t=55 is 0.44931602807844834\n",
      "Objective value at epoch t=56 is 0.44929297651928\n",
      "Objective value at epoch t=57 is 0.4492746835979632\n",
      "Objective value at epoch t=58 is 0.4492574440421383\n",
      "Objective value at epoch t=59 is 0.44924179847860285\n",
      "Objective value at epoch t=60 is 0.4492276246389654\n",
      "Objective value at epoch t=61 is 0.4492148464410121\n",
      "Objective value at epoch t=62 is 0.4492035008980143\n",
      "Objective value at epoch t=63 is 0.44919306235968903\n",
      "Objective value at epoch t=64 is 0.44918373421443636\n",
      "Objective value at epoch t=65 is 0.4491753589579047\n",
      "Objective value at epoch t=66 is 0.44916794041160896\n",
      "Objective value at epoch t=67 is 0.4491611774077902\n",
      "Objective value at epoch t=68 is 0.4491550108297\n",
      "Objective value at epoch t=69 is 0.4491494530308688\n",
      "Objective value at epoch t=70 is 0.44914461830702423\n",
      "Objective value at epoch t=71 is 0.4491401330938277\n",
      "Objective value at epoch t=72 is 0.4491361376386257\n",
      "Objective value at epoch t=73 is 0.44913255599872126\n",
      "Objective value at epoch t=74 is 0.44912927046398954\n",
      "Objective value at epoch t=75 is 0.44912637529080734\n",
      "Objective value at epoch t=76 is 0.449123765294802\n",
      "Objective value at epoch t=77 is 0.44912139496053927\n",
      "Objective value at epoch t=78 is 0.4491192680566532\n",
      "Objective value at epoch t=79 is 0.44911733256146447\n",
      "Objective value at epoch t=80 is 0.4491156238135171\n",
      "Objective value at epoch t=81 is 0.44911406586445\n",
      "Objective value at epoch t=82 is 0.44911267390252646\n",
      "Objective value at epoch t=83 is 0.449111418461744\n",
      "Objective value at epoch t=84 is 0.4491102815491074\n",
      "Objective value at epoch t=85 is 0.44910926509464366\n",
      "Objective value at epoch t=86 is 0.44910834909627806\n",
      "Objective value at epoch t=87 is 0.44910752326564046\n",
      "Objective value at epoch t=88 is 0.4491067805034118\n",
      "Objective value at epoch t=89 is 0.44910611228397446\n",
      "Objective value at epoch t=90 is 0.4491055097868927\n",
      "Objective value at epoch t=91 is 0.44910496885980733\n",
      "Objective value at epoch t=92 is 0.44910448156472693\n",
      "Objective value at epoch t=93 is 0.4491040426823659\n",
      "Objective value at epoch t=94 is 0.44910364782706375\n",
      "Objective value at epoch t=95 is 0.44910329248185477\n",
      "Objective value at epoch t=96 is 0.4491029727092447\n",
      "Objective value at epoch t=97 is 0.44910268471235815\n",
      "Objective value at epoch t=98 is 0.44910242571835035\n",
      "Objective value at epoch t=99 is 0.44910219243316735\n"
     ]
    }
   ],
   "source": [
    "lam = 1E-6\n",
    "stepsize = 0.1\n",
    "w, objvals_sgd = sgd(x_train, y_train, lam, stepsize)"
   ]
  },
  {
   "cell_type": "markdown",
   "metadata": {},
   "source": [
    "# 4. Compare GD with SGD\n",
    "\n",
    "Plot objective function values against epochs."
   ]
  },
  {
   "cell_type": "code",
   "execution_count": 73,
   "metadata": {},
   "outputs": [
    {
     "name": "stderr",
     "output_type": "stream",
     "text": [
      "<ipython-input-73-9b8d8f4cdfb5>:9: MatplotlibDeprecationWarning: Case-insensitive properties were deprecated in 3.3 and support will be removed two minor releases later\n",
      "  line0, = plt.plot(epochs_gd, objvals_gd, '--b', LineWidth=4)\n",
      "<ipython-input-73-9b8d8f4cdfb5>:10: MatplotlibDeprecationWarning: Case-insensitive properties were deprecated in 3.3 and support will be removed two minor releases later\n",
      "  line1, = plt.plot(epochs_sgd, objvals_sgd, '-r', LineWidth=2)\n",
      "<ipython-input-73-9b8d8f4cdfb5>:11: MatplotlibDeprecationWarning: Case-insensitive properties were deprecated in 3.3 and support will be removed two minor releases later\n",
      "  plt.xlabel('Epochs', FontSize=20)\n",
      "<ipython-input-73-9b8d8f4cdfb5>:12: MatplotlibDeprecationWarning: Case-insensitive properties were deprecated in 3.3 and support will be removed two minor releases later\n",
      "  plt.ylabel('Objective Value', FontSize=20)\n",
      "<ipython-input-73-9b8d8f4cdfb5>:13: MatplotlibDeprecationWarning: Case-insensitive properties were deprecated in 3.3 and support will be removed two minor releases later\n",
      "  plt.xticks(FontSize=16)\n",
      "<ipython-input-73-9b8d8f4cdfb5>:14: MatplotlibDeprecationWarning: Case-insensitive properties were deprecated in 3.3 and support will be removed two minor releases later\n",
      "  plt.yticks(FontSize=16)\n"
     ]
    },
    {
     "data": {
      "image/png": "[encoded data removed]",
      "text/plain": [
       "<Figure size 432x288 with 1 Axes>"
      ]
     },
     "metadata": {
      "needs_background": "light"
     },
     "output_type": "display_data"
    }
   ],
   "source": [
    "import matplotlib.pyplot as plt\n",
    "%matplotlib inline\n",
    "\n",
    "fig = plt.figure(figsize=(6, 4))\n",
    "\n",
    "epochs_gd = range(len(objvals_gd))\n",
    "epochs_sgd = range(len(objvals_sgd))\n",
    "\n",
    "line0, = plt.plot(epochs_gd, objvals_gd, '--b', LineWidth=4)\n",
    "line1, = plt.plot(epochs_sgd, objvals_sgd, '-r', LineWidth=2)\n",
    "plt.xlabel('Epochs', FontSize=20)\n",
    "plt.ylabel('Objective Value', FontSize=20)\n",
    "plt.xticks(FontSize=16)\n",
    "plt.yticks(FontSize=16)\n",
    "plt.legend([line0, line1], ['GD', 'SGD'], fontsize=20)\n",
    "plt.tight_layout()\n",
    "plt.show()\n",
    "fig.savefig('compare_gd_sgd.pdf', format='pdf', dpi=1200)"
   ]
  },
  {
   "cell_type": "markdown",
   "metadata": {},
   "source": [
    "# 5. Prediction"
   ]
  },
  {
   "cell_type": "code",
   "execution_count": 74,
   "metadata": {},
   "outputs": [],
   "source": [
    "# Predict class label\n",
    "# Inputs:\n",
    "#     w: d-by-1 matrix\n",
    "#     X: m-by-d matrix\n",
    "# Return:\n",
    "#     f: m-by-1 matrix, the predictions\n",
    "def predict(w, X):\n",
    "    xw = numpy.dot(X, w)\n",
    "    f = numpy.sign(xw)\n",
    "    return f"
   ]
  },
  {
   "cell_type": "code",
   "execution_count": 75,
   "metadata": {},
   "outputs": [
    {
     "name": "stdout",
     "output_type": "stream",
     "text": [
      "Training classification error is 0.2078125\n"
     ]
    }
   ],
   "source": [
    "# evaluate training error\n",
    "f_train = predict(w, x_train)\n",
    "diff = numpy.abs(f_train - y_train) / 2\n",
    "error_train = numpy.mean(diff)\n",
    "print('Training classification error is ' + str(error_train))"
   ]
  },
  {
   "cell_type": "code",
   "execution_count": 76,
   "metadata": {},
   "outputs": [
    {
     "name": "stdout",
     "output_type": "stream",
     "text": [
      "Test classification error is 0.2890625\n"
     ]
    }
   ],
   "source": [
    "# evaluate test error\n",
    "f_test = predict(w, x_test)\n",
    "diff = numpy.abs(f_test - y_test) / 2\n",
    "error_test = numpy.mean(diff)\n",
    "print('Test classification error is ' + str(error_test))"
   ]
  },
  {
   "cell_type": "markdown",
   "metadata": {},
   "source": [
    "# 6. Mini-batch SGD (fill the code)\n",
    "\n"
   ]
  },
  {
   "cell_type": "markdown",
   "metadata": {},
   "source": [
    "## 6.1. Compute the objective $Q_I$ and its gradient using a batch of samples\n",
    "\n",
    "Define $Q_I (w) = \\frac{1}{b} \\sum_{i \\in I} \\log \\Big( 1 + \\exp \\big( - y_i x_i^T w \\big) \\Big) + \\frac{\\lambda}{2} \\| w \\|_2^2 $, where $I$ is a set containing $b$ indices randomly drawn from $\\{ 1, \\cdots , n \\}$ without replacement.\n",
    "\n",
    "The stochastic gradient at $w$ is $g_I = \\frac{\\partial Q_I }{ \\partial w} = \\frac{1}{b} \\sum_{i \\in I} \\frac{- y_i x_i }{1 + \\exp ( y_i x_i^T w)} + \\lambda w$."
   ]
  },
  {
   "cell_type": "code",
   "execution_count": 78,
   "metadata": {},
   "outputs": [],
   "source": [
    "# Calculate the objective Q_I and the gradient of Q_I\n",
    "# Inputs:\n",
    "#     w: d-by-1 matrix\n",
    "#     xi: b-by-d matrix\n",
    "#     yi: b-by-1 matrix\n",
    "#     lam: scalar, the regularization parameter\n",
    "#     b: integer, the batch size\n",
    "# Return:\n",
    "#     obj: scalar, the objective Q_i\n",
    "#     g: d-by-1 matrix, gradient of Q_i\n",
    "def mb_stochastic_objective_gradient(w, xi, yi, lam, b):\n",
    "    n,d = xi.shape\n",
    "    yx = numpy.multiply(yi,xi)  # b x d\n",
    "    yxw = numpy.dot(yx, w) # b x 1  \n",
    "    \n",
    "    # calculate objective function Q_i\n",
    "    loss = numpy.mean(numpy.log(1 + numpy.exp(-yxw)))  # scalar\n",
    "    reg = lam / 2 * numpy.sum(w * w) # scalar\n",
    "    obj = loss + reg\n",
    "    \n",
    "#     calculate gradient\n",
    "    a = numpy.divide(yx, 1 + numpy.exp(yxw))\n",
    "    g_loss = -numpy.mean(a, axis=0).reshape(d, 1)  # d-by-1 matrix\n",
    "    g = g_loss + lam * w   # d-by-1 matrix \n",
    "    return obj, g"
   ]
  },
  {
   "cell_type": "markdown",
   "metadata": {},
   "source": [
    "## 6.2. Implement mini-batch SGD\n",
    "\n",
    "Hints:\n",
    "1. In every epoch, randomly permute the $n$ samples (just like SGD).\n",
    "2. Each epoch has $\\frac{n}{b}$ iterations. In every iteration, use $b$ samples, and compute the gradient and objective using the ``mb_stochastic_objective_gradient`` function. In the next iteration, use the next $b$ samples, and so on.\n"
   ]
  },
  {
   "cell_type": "code",
   "execution_count": 79,
   "metadata": {},
   "outputs": [],
   "source": [
    "# Mini-Batch SGD for solving logistic regression\n",
    "# Inputs:\n",
    "#     x: n-by-d matrix\n",
    "#     y: n-by-1 matrix\n",
    "#     lam: scalar, the regularization parameter\n",
    "#     b: integer, the batch size\n",
    "#     stepsize: scalar\n",
    "#     max_epoch: integer, the maximal epochs\n",
    "#     w: d-by-1 matrix, initialization of w\n",
    "# Return:\n",
    "#     w: the solution\n",
    "#     objvals: record of each iteration's objective value\n",
    "def mb_sgd(x, y, lam, b, stepsize, max_epoch=100, w=None):\n",
    "    # Fill the function\n",
    "    # Follow the implementation of sgd\n",
    "    # Record one objective value per epoch (not per iteration!)\n",
    "    n, d = x.shape  \n",
    "    times = n/b  #batch_times\n",
    "    objvals = numpy.zeros(max_epoch) # store the objective values\n",
    "    w = numpy.zeros((d, 1)) # zero initialization\n",
    "    for t in range(max_epoch):\n",
    "        # randomly shuffle the samples\n",
    "        rand_indices = numpy.random.permutation(n)\n",
    "        x_rand = x[rand_indices, :]\n",
    "        y_rand = y[rand_indices, :]\n",
    "        objval = 0\n",
    "        for i in range(0,n,b):\n",
    "            xi = x_rand[i:i + b,:]\n",
    "            yi = y_rand[i:i + b,:]\n",
    "            obj, g = mb_stochastic_objective_gradient(w, xi, yi, lam,b)\n",
    "            objval += obj\n",
    "            w -= stepsize * g\n",
    "        stepsize *= 0.9 # decrease step size\n",
    "        objval = objval/times\n",
    "        objvals[t] = objval\n",
    "        print('Objective value at epoch t=' + str(t) + ' is ' + str(objval))   \n",
    "    return w, objvals"
   ]
  },
  {
   "cell_type": "markdown",
   "metadata": {},
   "source": [
    "## 6.3. Run MB-SGD"
   ]
  },
  {
   "cell_type": "code",
   "execution_count": 80,
   "metadata": {},
   "outputs": [
    {
     "name": "stdout",
     "output_type": "stream",
     "text": [
      "Objective value at epoch t=0 is 0.5320963785664586\n",
      "Objective value at epoch t=1 is 0.46721611710807637\n",
      "Objective value at epoch t=2 is 0.46072798863810016\n",
      "Objective value at epoch t=3 is 0.45619958164737867\n",
      "Objective value at epoch t=4 is 0.45442409970351905\n",
      "Objective value at epoch t=5 is 0.454370487775519\n",
      "Objective value at epoch t=6 is 0.4538804606344594\n",
      "Objective value at epoch t=7 is 0.45295359537695623\n",
      "Objective value at epoch t=8 is 0.45281076513744856\n",
      "Objective value at epoch t=9 is 0.45205694352503845\n",
      "Objective value at epoch t=10 is 0.4520234378372372\n",
      "Objective value at epoch t=11 is 0.45162450026541406\n",
      "Objective value at epoch t=12 is 0.4515083510901808\n",
      "Objective value at epoch t=13 is 0.451474453639536\n",
      "Objective value at epoch t=14 is 0.4510800836793477\n",
      "Objective value at epoch t=15 is 0.4508744680826206\n",
      "Objective value at epoch t=16 is 0.4506357404293187\n",
      "Objective value at epoch t=17 is 0.4505141315246518\n",
      "Objective value at epoch t=18 is 0.45040109923223504\n",
      "Objective value at epoch t=19 is 0.4503163024529118\n",
      "Objective value at epoch t=20 is 0.4500814881271002\n",
      "Objective value at epoch t=21 is 0.45009936919066096\n",
      "Objective value at epoch t=22 is 0.44993986979857914\n",
      "Objective value at epoch t=23 is 0.44993705524227\n",
      "Objective value at epoch t=24 is 0.44975023118004354\n",
      "Objective value at epoch t=25 is 0.44971162840390333\n",
      "Objective value at epoch t=26 is 0.44964138285949334\n",
      "Objective value at epoch t=27 is 0.4495590704729497\n",
      "Objective value at epoch t=28 is 0.44958288774425076\n",
      "Objective value at epoch t=29 is 0.44952751424802806\n",
      "Objective value at epoch t=30 is 0.4494745614647811\n",
      "Objective value at epoch t=31 is 0.44945503403728504\n",
      "Objective value at epoch t=32 is 0.4493998132230511\n",
      "Objective value at epoch t=33 is 0.4493725221170595\n",
      "Objective value at epoch t=34 is 0.44934414191719085\n",
      "Objective value at epoch t=35 is 0.4493467139106165\n",
      "Objective value at epoch t=36 is 0.44931730199555353\n",
      "Objective value at epoch t=37 is 0.44926594272400155\n",
      "Objective value at epoch t=38 is 0.44925237136233126\n",
      "Objective value at epoch t=39 is 0.4492583536784898\n",
      "Objective value at epoch t=40 is 0.4492336384030403\n",
      "Objective value at epoch t=41 is 0.44921318766809737\n",
      "Objective value at epoch t=42 is 0.44919279350014285\n",
      "Objective value at epoch t=43 is 0.4491980567975036\n",
      "Objective value at epoch t=44 is 0.44918754370004593\n",
      "Objective value at epoch t=45 is 0.4491728251919809\n",
      "Objective value at epoch t=46 is 0.44917340236461634\n",
      "Objective value at epoch t=47 is 0.44916524242274514\n",
      "Objective value at epoch t=48 is 0.4491606193710421\n",
      "Objective value at epoch t=49 is 0.44914955494214237\n",
      "Objective value at epoch t=50 is 0.4491482164315871\n",
      "Objective value at epoch t=51 is 0.44914693666955613\n",
      "Objective value at epoch t=52 is 0.4491389834942846\n",
      "Objective value at epoch t=53 is 0.4491341923079849\n",
      "Objective value at epoch t=54 is 0.4491339939703704\n",
      "Objective value at epoch t=55 is 0.4491280015437555\n",
      "Objective value at epoch t=56 is 0.44912755066070503\n",
      "Objective value at epoch t=57 is 0.44912295880473085\n",
      "Objective value at epoch t=58 is 0.4491198897041563\n",
      "Objective value at epoch t=59 is 0.4491203282728734\n",
      "Objective value at epoch t=60 is 0.449117423853527\n",
      "Objective value at epoch t=61 is 0.4491162441920295\n",
      "Objective value at epoch t=62 is 0.44911432563687353\n",
      "Objective value at epoch t=63 is 0.4491126424339275\n",
      "Objective value at epoch t=64 is 0.44911232686465236\n",
      "Objective value at epoch t=65 is 0.44911064536175854\n",
      "Objective value at epoch t=66 is 0.44911097294276325\n",
      "Objective value at epoch t=67 is 0.44911020759781445\n",
      "Objective value at epoch t=68 is 0.4491090797403248\n",
      "Objective value at epoch t=69 is 0.4491083377437078\n",
      "Objective value at epoch t=70 is 0.4491077207491491\n",
      "Objective value at epoch t=71 is 0.449107517562403\n",
      "Objective value at epoch t=72 is 0.44910692100257366\n",
      "Objective value at epoch t=73 is 0.44910632392012023\n",
      "Objective value at epoch t=74 is 0.449105856537224\n",
      "Objective value at epoch t=75 is 0.44910559714417253\n",
      "Objective value at epoch t=76 is 0.4491050760886666\n",
      "Objective value at epoch t=77 is 0.44910504772099574\n",
      "Objective value at epoch t=78 is 0.44910488594896114\n",
      "Objective value at epoch t=79 is 0.44910444725536475\n",
      "Objective value at epoch t=80 is 0.4491042669351928\n",
      "Objective value at epoch t=81 is 0.4491040499357705\n",
      "Objective value at epoch t=82 is 0.4491038175499763\n",
      "Objective value at epoch t=83 is 0.44910372582363384\n",
      "Objective value at epoch t=84 is 0.4491034342230839\n",
      "Objective value at epoch t=85 is 0.449103470868343\n",
      "Objective value at epoch t=86 is 0.44910339104690555\n",
      "Objective value at epoch t=87 is 0.4491031253456882\n",
      "Objective value at epoch t=88 is 0.4491031307948091\n",
      "Objective value at epoch t=89 is 0.44910303737037627\n",
      "Objective value at epoch t=90 is 0.4491029672833388\n",
      "Objective value at epoch t=91 is 0.4491029023418768\n",
      "Objective value at epoch t=92 is 0.4491028763497134\n",
      "Objective value at epoch t=93 is 0.44910280137276093\n",
      "Objective value at epoch t=94 is 0.4491027725039081\n",
      "Objective value at epoch t=95 is 0.44910272877307034\n",
      "Objective value at epoch t=96 is 0.44910266226586515\n",
      "Objective value at epoch t=97 is 0.44910262358628905\n",
      "Objective value at epoch t=98 is 0.4491025840760006\n",
      "Objective value at epoch t=99 is 0.44910258781824997\n"
     ]
    }
   ],
   "source": [
    "# MB-SGD with batch size b=8\n",
    "lam = 1E-6 # do not change\n",
    "b = 8 # do not change\n",
    "stepsize = 0.1 # you must tune this parameter\n",
    "\n",
    "w, objvals_mbsgd8 = mb_sgd(x_train, y_train, lam, b, stepsize)"
   ]
  },
  {
   "cell_type": "code",
   "execution_count": 81,
   "metadata": {},
   "outputs": [
    {
     "name": "stdout",
     "output_type": "stream",
     "text": [
      "Objective value at epoch t=0 is 0.6443679352820514\n",
      "Objective value at epoch t=1 is 0.5759291379406065\n",
      "Objective value at epoch t=2 is 0.5417497484323943\n",
      "Objective value at epoch t=3 is 0.521830872843491\n",
      "Objective value at epoch t=4 is 0.5092730601673504\n",
      "Objective value at epoch t=5 is 0.5003618416358652\n",
      "Objective value at epoch t=6 is 0.4938331373752886\n",
      "Objective value at epoch t=7 is 0.48903335501833645\n",
      "Objective value at epoch t=8 is 0.48510861685549145\n",
      "Objective value at epoch t=9 is 0.48221213575606087\n",
      "Objective value at epoch t=10 is 0.47962892906608656\n",
      "Objective value at epoch t=11 is 0.47767740253863356\n",
      "Objective value at epoch t=12 is 0.4760785113207365\n",
      "Objective value at epoch t=13 is 0.4745945814928908\n",
      "Objective value at epoch t=14 is 0.4734713540059506\n",
      "Objective value at epoch t=15 is 0.47242573139652777\n",
      "Objective value at epoch t=16 is 0.47158733398868574\n",
      "Objective value at epoch t=17 is 0.4707681793814659\n",
      "Objective value at epoch t=18 is 0.4701513389167694\n",
      "Objective value at epoch t=19 is 0.46957527641662755\n",
      "Objective value at epoch t=20 is 0.46914575225242644\n",
      "Objective value at epoch t=21 is 0.46867775350073115\n",
      "Objective value at epoch t=22 is 0.46831914724810597\n",
      "Objective value at epoch t=23 is 0.4679900475400817\n",
      "Objective value at epoch t=24 is 0.4677263332377672\n",
      "Objective value at epoch t=25 is 0.4674622282937169\n",
      "Objective value at epoch t=26 is 0.4672098226702051\n",
      "Objective value at epoch t=27 is 0.4670187774459971\n",
      "Objective value at epoch t=28 is 0.4668323612840761\n",
      "Objective value at epoch t=29 is 0.46667525850229863\n",
      "Objective value at epoch t=30 is 0.46653591572543524\n",
      "Objective value at epoch t=31 is 0.46642729639717756\n",
      "Objective value at epoch t=32 is 0.4662956806634927\n",
      "Objective value at epoch t=33 is 0.46619115953142565\n",
      "Objective value at epoch t=34 is 0.4660938957103358\n",
      "Objective value at epoch t=35 is 0.46601862120145\n",
      "Objective value at epoch t=36 is 0.46594806729573124\n",
      "Objective value at epoch t=37 is 0.4658866664950672\n",
      "Objective value at epoch t=38 is 0.46582748947784236\n",
      "Objective value at epoch t=39 is 0.46576765322717034\n",
      "Objective value at epoch t=40 is 0.46572322524265414\n",
      "Objective value at epoch t=41 is 0.46568241758578494\n",
      "Objective value at epoch t=42 is 0.4656447343747021\n",
      "Objective value at epoch t=43 is 0.46560675796123424\n",
      "Objective value at epoch t=44 is 0.46557995001139674\n",
      "Objective value at epoch t=45 is 0.4655514813762821\n",
      "Objective value at epoch t=46 is 0.46552514433226444\n",
      "Objective value at epoch t=47 is 0.46550479510869563\n",
      "Objective value at epoch t=48 is 0.4654837377018201\n",
      "Objective value at epoch t=49 is 0.46546954175180727\n",
      "Objective value at epoch t=50 is 0.46545143508398085\n",
      "Objective value at epoch t=51 is 0.46543622903009574\n",
      "Objective value at epoch t=52 is 0.46542408847140526\n",
      "Objective value at epoch t=53 is 0.46541111441439337\n",
      "Objective value at epoch t=54 is 0.4654013829480347\n",
      "Objective value at epoch t=55 is 0.46539121695706676\n",
      "Objective value at epoch t=56 is 0.4653825353061947\n",
      "Objective value at epoch t=57 is 0.46537517024377645\n",
      "Objective value at epoch t=58 is 0.46536865409930356\n",
      "Objective value at epoch t=59 is 0.4653621513265964\n",
      "Objective value at epoch t=60 is 0.4653567834630235\n",
      "Objective value at epoch t=61 is 0.4653514606519\n",
      "Objective value at epoch t=62 is 0.4653474007484733\n",
      "Objective value at epoch t=63 is 0.4653429451841741\n",
      "Objective value at epoch t=64 is 0.46533963536354667\n",
      "Objective value at epoch t=65 is 0.46533620331689524\n",
      "Objective value at epoch t=66 is 0.4653330813090334\n",
      "Objective value at epoch t=67 is 0.465331243267577\n",
      "Objective value at epoch t=68 is 0.4653283286712425\n",
      "Objective value at epoch t=69 is 0.46532609064827624\n",
      "Objective value at epoch t=70 is 0.46532419379234574\n",
      "Objective value at epoch t=71 is 0.4653223387622811\n",
      "Objective value at epoch t=72 is 0.46532079008798233\n",
      "Objective value at epoch t=73 is 0.4653193758400735\n",
      "Objective value at epoch t=74 is 0.4653183829075882\n",
      "Objective value at epoch t=75 is 0.46531694695692627\n",
      "Objective value at epoch t=76 is 0.46531584884663496\n",
      "Objective value at epoch t=77 is 0.46531499057628284\n",
      "Objective value at epoch t=78 is 0.46531422003388884\n",
      "Objective value at epoch t=79 is 0.46531344832869326\n",
      "Objective value at epoch t=80 is 0.4653127383747038\n",
      "Objective value at epoch t=81 is 0.46531210083984853\n",
      "Objective value at epoch t=82 is 0.46531156133088497\n",
      "Objective value at epoch t=83 is 0.46531108259242276\n",
      "Objective value at epoch t=84 is 0.4653106077073839\n",
      "Objective value at epoch t=85 is 0.46531022185438314\n",
      "Objective value at epoch t=86 is 0.4653098639920664\n",
      "Objective value at epoch t=87 is 0.4653095790527416\n",
      "Objective value at epoch t=88 is 0.4653092882101146\n",
      "Objective value at epoch t=89 is 0.4653090085003296\n",
      "Objective value at epoch t=90 is 0.4653087592638279\n",
      "Objective value at epoch t=91 is 0.46530855547719385\n",
      "Objective value at epoch t=92 is 0.46530838406737474\n",
      "Objective value at epoch t=93 is 0.4653081864893406\n",
      "Objective value at epoch t=94 is 0.4653080590439432\n",
      "Objective value at epoch t=95 is 0.4653079054648804\n",
      "Objective value at epoch t=96 is 0.4653077798771531\n",
      "Objective value at epoch t=97 is 0.465307671252956\n",
      "Objective value at epoch t=98 is 0.46530757004478496\n",
      "Objective value at epoch t=99 is 0.46530747289496144\n"
     ]
    }
   ],
   "source": [
    "# MB-SGD with batch size b=64\n",
    "lam = 1E-6 # do not change\n",
    "b = 64 # do not change\n",
    "stepsize = 0.1 # you must tune this parameter\n",
    "\n",
    "w, objvals_mbsgd64 = mb_sgd(x_train, y_train, lam, b, stepsize)"
   ]
  },
  {
   "cell_type": "markdown",
   "metadata": {},
   "source": [
    "# 7. Plot and compare GD, SGD, and MB-SGD"
   ]
  },
  {
   "cell_type": "markdown",
   "metadata": {},
   "source": [
    "You are required to compare the following algorithms:\n",
    "\n",
    "- Gradient descent (GD)\n",
    "\n",
    "- SGD\n",
    "\n",
    "- MB-SGD with b=8\n",
    "\n",
    "- MB-SGD with b=64\n",
    "\n",
    "Follow the code in Section 4 to plot ```objective function value``` against ```epochs```. There should be four curves in the plot; each curve corresponds to one algorithm."
   ]
  },
  {
   "cell_type": "markdown",
   "metadata": {},
   "source": [
    "Hint: Logistic regression with $\\ell_2$-norm regularization is a strongly convex optimization problem. All the algorithms will converge to the same solution. **In the end, the ``objective function value`` of the 4 algorithms will be the same. If not the same, your implementation must be wrong. Do NOT submit wrong code and wrong result!**"
   ]
  },
  {
   "cell_type": "code",
   "execution_count": 82,
   "metadata": {},
   "outputs": [
    {
     "name": "stderr",
     "output_type": "stream",
     "text": [
      "<ipython-input-82-698ddc195f88>:5: MatplotlibDeprecationWarning: Case-insensitive properties were deprecated in 3.3 and support will be removed two minor releases later\n",
      "  plt.plot(epoch_list, objvals_gd, label='GD',color='black', LineWidth=2)\n",
      "<ipython-input-82-698ddc195f88>:6: MatplotlibDeprecationWarning: Case-insensitive properties were deprecated in 3.3 and support will be removed two minor releases later\n",
      "  plt.plot(epoch_list, objvals_sgd, label='SGD',color ='red', LineWidth=2)\n",
      "<ipython-input-82-698ddc195f88>:7: MatplotlibDeprecationWarning: Case-insensitive properties were deprecated in 3.3 and support will be removed two minor releases later\n",
      "  plt.plot(epoch_list, objvals_mbsgd8, label='MbSGD8', color='pink',LineWidth=2)\n",
      "<ipython-input-82-698ddc195f88>:8: MatplotlibDeprecationWarning: Case-insensitive properties were deprecated in 3.3 and support will be removed two minor releases later\n",
      "  plt.plot(epoch_list, objvals_mbsgd64, label='MbSGD64', color='green',LineWidth=2)\n"
     ]
    },
    {
     "data": {
      "image/png": "[encoded data removed]",
      "text/plain": [
       "<Figure size 432x288 with 1 Axes>"
      ]
     },
     "metadata": {
      "needs_background": "light"
     },
     "output_type": "display_data"
    }
   ],
   "source": [
    "# plot the 4 curves:\n",
    "plt.xlabel('epochs')\n",
    "epoch_list = range(100)\n",
    "plt.ylabel('Objective Value')\n",
    "plt.plot(epoch_list, objvals_gd, label='GD',color='black', LineWidth=2)\n",
    "plt.plot(epoch_list, objvals_sgd, label='SGD',color ='red', LineWidth=2)\n",
    "plt.plot(epoch_list, objvals_mbsgd8, label='MbSGD8', color='pink',LineWidth=2)\n",
    "plt.plot(epoch_list, objvals_mbsgd64, label='MbSGD64', color='green',LineWidth=2)\n",
    "\n",
    "plt.title('Assignment1', fontsize=20)\n",
    "plt.legend()\n",
    "plt.show()"
   ]
  },
  {
   "cell_type": "markdown",
   "metadata": {},
   "source": []
  }
 ],
 "metadata": {
  "kernelspec": {
   "display_name": "Python 3",
   "language": "python",
   "name": "python3"
  },
  "language_info": {
   "codemirror_mode": {
    "name": "ipython",
    "version": 3
   },
   "file_extension": ".py",
   "mimetype": "text/x-python",
   "name": "python",
   "nbconvert_exporter": "python",
   "pygments_lexer": "ipython3",
   "version": "3.8.6rc1"
  }
 },
 "nbformat": 4,
 "nbformat_minor": 4
}
