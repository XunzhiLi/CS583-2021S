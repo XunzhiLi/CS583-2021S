{
  "nbformat": 4,
  "nbformat_minor": 0,
  "metadata": {
    "kernelspec": {
      "display_name": "Python 3",
      "language": "python",
      "name": "python3"
    },
    "language_info": {
      "codemirror_mode": {
        "name": "ipython",
        "version": 3
      },
      "file_extension": ".py",
      "mimetype": "text/x-python",
      "name": "python",
      "nbconvert_exporter": "python",
      "pygments_lexer": "ipython3",
      "version": "3.8.6rc1"
    },
    "colab": {
      "name": "HM5.ipynb",
      "provenance": [],
      "collapsed_sections": [],
      "toc_visible": true
    },
    "accelerator": "GPU"
  },
  "cells": [
    {
      "cell_type": "markdown",
      "metadata": {
        "id": "zIX9MqUviw-4"
      },
      "source": [
        "# Home 5: Build a seq2seq model for machine translation.\n",
        "\n",
        "### Name: XUNZHI LI\n",
        "\n",
        "### Task: Translate English to French"
      ]
    },
    {
      "cell_type": "markdown",
      "metadata": {
        "id": "_ZpXNp7wiw-_"
      },
      "source": [
        "## 0. You will do the following:\n",
        "\n",
        "1. Read and run my code.\n",
        "2. Complete the code in Section 1.1 and Section 4.2.\n",
        "\n",
        "    * Translation **English** to **German** is not acceptable!!! Try another pair of languages.\n",
        "    \n",
        "3. **Make improvements.** Directly modify the code in Section 3. Do at least one of the two. By doing both correctly, you will get up to 1 bonus score to the total.\n",
        "\n",
        "    * Bi-LSTM instead of LSTM.\n",
        "        \n",
        "    * Attention. (You are allowed to use existing code.)\n",
        "    \n",
        "4. Evaluate the translation using the BLEU score. \n",
        "\n",
        "    * Optional. Up to 1 bonus scores to the total.\n",
        "    \n",
        "5. Convert the notebook to .HTML file. \n",
        "\n",
        "    * The HTML file must contain the code and the output after execution.\n",
        "\n",
        "6. Put the .HTML file in your Google Drive, Dropbox, or Github repo.  (If you submit the file to Google Drive or Dropbox, you must make the file \"open-access\". The delay caused by \"deny of access\" may result in late penalty.)\n",
        "\n",
        "7. Submit the link to the HTML file to Canvas.    \n"
      ]
    },
    {
      "cell_type": "markdown",
      "metadata": {
        "id": "CTdwdkgfiw_A"
      },
      "source": [
        "### Hint: \n",
        "\n",
        "To implement ```Bi-LSTM```, you will need the following code to build the encoder. Do NOT use Bi-LSTM for the decoder."
      ]
    },
    {
      "cell_type": "code",
      "metadata": {
        "id": "yYQlnYiAiw_B"
      },
      "source": [
        "# from keras.layers import Bidirectional, Concatenate\n",
        "\n",
        "# encoder_bilstm = Bidirectional(LSTM(latent_dim, return_state=True, \n",
        "#                                   dropout=0.5, name='encoder_lstm'))\n",
        "# _, forward_h, forward_c, backward_h, backward_c = encoder_bilstm(encoder_inputs)\n",
        "\n",
        "# state_h = Concatenate()([forward_h, backward_h])\n",
        "# state_c = Concatenate()([forward_c, backward_c])"
      ],
      "execution_count": 1,
      "outputs": []
    },
    {
      "cell_type": "markdown",
      "metadata": {
        "id": "jpNcbG1Jiw_C"
      },
      "source": [
        "## 1. Data preparation\n",
        "\n",
        "1. Download data (e.g., \"deu-eng.zip\") from http://www.manythings.org/anki/\n",
        "2. Unzip the .ZIP file.\n",
        "3. Put the .TXT file (e.g., \"deu.txt\") in the directory \"./Data/\"."
      ]
    },
    {
      "cell_type": "markdown",
      "metadata": {
        "id": "BUG4oNfSiw_C"
      },
      "source": [
        "### 1.1. Load and clean text\n"
      ]
    },
    {
      "cell_type": "code",
      "metadata": {
        "id": "CvRfsSdLiw_D"
      },
      "source": [
        "import re\n",
        "import string\n",
        "from unicodedata import normalize\n",
        "import numpy\n",
        "\n",
        "# load doc into memory\n",
        "def load_doc(filename):\n",
        "    # open the file as read only\n",
        "    file = open(filename, mode='rt', encoding='utf-8')\n",
        "    # read all text\n",
        "    text = file.read()\n",
        "    # close the file\n",
        "    file.close()\n",
        "    return text\n",
        "\n",
        "\n",
        "# split a loaded document into sentences\n",
        "def to_pairs(doc):\n",
        "    lines = doc.strip().split('\\n')\n",
        "    pairs = [line.split('\\t') for line in  lines]\n",
        "    return pairs\n",
        "\n",
        "def clean_data(lines):\n",
        "    cleaned = list()\n",
        "    # prepare regex for char filtering\n",
        "    re_print = re.compile('[^%s]' % re.escape(string.printable))\n",
        "    # prepare translation table for removing punctuation\n",
        "    table = str.maketrans('', '', string.punctuation)\n",
        "    for pair in lines:\n",
        "        clean_pair = list()\n",
        "        for line in pair:\n",
        "            # normalize unicode characters\n",
        "            line = normalize('NFD', line).encode('ascii', 'ignore')\n",
        "            line = line.decode('UTF-8')\n",
        "            # tokenize on white space\n",
        "            line = line.split()\n",
        "            # convert to lowercase\n",
        "            line = [word.lower() for word in line]\n",
        "            # remove punctuation from each token\n",
        "            line = [word.translate(table) for word in line]\n",
        "            # remove non-printable chars form each token\n",
        "            line = [re_print.sub('', w) for w in line]\n",
        "            # remove tokens with numbers in them\n",
        "            line = [word for word in line if word.isalpha()]\n",
        "            # store as string\n",
        "            clean_pair.append(' '.join(line))\n",
        "        cleaned.append(clean_pair)\n",
        "    return numpy.array(cleaned)"
      ],
      "execution_count": 2,
      "outputs": []
    },
    {
      "cell_type": "markdown",
      "metadata": {
        "id": "mdOd9025iw_D"
      },
      "source": [
        "#### Fill the following blanks:"
      ]
    },
    {
      "cell_type": "code",
      "metadata": {
        "id": "gCJLGhKmiw_E"
      },
      "source": [
        "# e.g., filename = 'Data/deu.txt'\n",
        "filename = 'fra.txt'\n",
        "\n",
        "rand_indices = numpy.random.permutation(30000)\n",
        "train_indices = rand_indices[0:25000]\n",
        "test_indices = rand_indices[25000:30000]\n",
        "\n",
        "# e.g., n_train = 30000\n",
        "n_train = 30000"
      ],
      "execution_count": 3,
      "outputs": []
    },
    {
      "cell_type": "code",
      "metadata": {
        "id": "mex2yuCmiw_E"
      },
      "source": [
        "# load dataset\n",
        "doc = load_doc(filename)\n",
        "\n",
        "# split into Language1-Language2 pairs\n",
        "pairs = to_pairs(doc)\n",
        "\n",
        "# clean sentences\n",
        "clean_pairs = clean_data(pairs)[train_indices,:]"
      ],
      "execution_count": 4,
      "outputs": []
    },
    {
      "cell_type": "code",
      "metadata": {
        "colab": {
          "base_uri": "https://localhost:8080/"
        },
        "id": "sda3fhyyiw_E",
        "outputId": "ce252391-9f45-40cf-e0ca-f27819ba169a"
      },
      "source": [
        "for i in range(3000, 3010):\n",
        "    print('[' + clean_pairs[i, 0] + '] => [' + clean_pairs[i, 1] + ']')"
      ],
      "execution_count": 5,
      "outputs": [
        {
          "output_type": "stream",
          "text": [
            "[no one can help us] => [personne ne peut nous aider]\n",
            "[tom put on a coat] => [tom mit son manteau]\n",
            "[hes a bit naive] => [il est un peu niais]\n",
            "[dinners ready] => [le diner est pret]\n",
            "[watch closely] => [regardez de pres]\n",
            "[i made the deal] => [jai conclu le contrat]\n",
            "[say what] => [de quoi]\n",
            "[he dislikes me] => [il ne maime pas]\n",
            "[hurry home] => [depechetoi daller chez toi]\n",
            "[theyre twins] => [elles sont jumelles]\n"
          ],
          "name": "stdout"
        }
      ]
    },
    {
      "cell_type": "code",
      "metadata": {
        "id": "lDJZmAzgiw_F",
        "colab": {
          "base_uri": "https://localhost:8080/"
        },
        "outputId": "513838b4-20cc-475d-a838-0bba9b7b37b2"
      },
      "source": [
        "input_texts = clean_pairs[:, 0]\n",
        "target_texts = ['\\t' + text + '\\n' for text in clean_pairs[:, 1]]\n",
        "\n",
        "print('Length of input_texts:  ' + str(input_texts.shape))\n",
        "print('Length of target_texts: ' + str(input_texts.shape))"
      ],
      "execution_count": 6,
      "outputs": [
        {
          "output_type": "stream",
          "text": [
            "Length of input_texts:  (25000,)\n",
            "Length of target_texts: (25000,)\n"
          ],
          "name": "stdout"
        }
      ]
    },
    {
      "cell_type": "code",
      "metadata": {
        "id": "hxcPrNS7iw_G",
        "colab": {
          "base_uri": "https://localhost:8080/"
        },
        "outputId": "b22c2a0d-4e20-4f92-e909-e6cde501f67e"
      },
      "source": [
        "max_encoder_seq_length = max(len(line) for line in input_texts)\n",
        "max_decoder_seq_length = max(len(line) for line in target_texts)\n",
        "\n",
        "print('max length of input  sentences: %d' % (max_encoder_seq_length))\n",
        "print('max length of target sentences: %d' % (max_decoder_seq_length))"
      ],
      "execution_count": 7,
      "outputs": [
        {
          "output_type": "stream",
          "text": [
            "max length of input  sentences: 18\n",
            "max length of target sentences: 56\n"
          ],
          "name": "stdout"
        }
      ]
    },
    {
      "cell_type": "markdown",
      "metadata": {
        "id": "op4nyTLaiw_G"
      },
      "source": [
        "**Remark:** To this end, you have two lists of sentences: input_texts and target_texts"
      ]
    },
    {
      "cell_type": "markdown",
      "metadata": {
        "id": "98KaAPAgiw_H"
      },
      "source": [
        "## 2. Text processing\n",
        "\n",
        "### 2.1. Convert texts to sequences\n",
        "\n",
        "- Input: A list of $n$ sentences (with max length $t$).\n",
        "- It is represented by a $n\\times t$ matrix after the tokenization and zero-padding."
      ]
    },
    {
      "cell_type": "code",
      "metadata": {
        "id": "EupGB0f5iw_H",
        "colab": {
          "base_uri": "https://localhost:8080/"
        },
        "outputId": "a2a579d5-ee28-42d5-8fb7-3deb7c1ea8b5"
      },
      "source": [
        "from keras.preprocessing.text import Tokenizer\n",
        "from keras.preprocessing.sequence import pad_sequences\n",
        "\n",
        "# encode and pad sequences\n",
        "def text2sequences(max_len, lines):\n",
        "    tokenizer = Tokenizer(char_level=True, filters='')\n",
        "    tokenizer.fit_on_texts(lines)\n",
        "    seqs = tokenizer.texts_to_sequences(lines)\n",
        "    seqs_pad = pad_sequences(seqs, maxlen=max_len, padding='post')\n",
        "    return seqs_pad, tokenizer.word_index\n",
        "\n",
        "\n",
        "encoder_input_seq, input_token_index = text2sequences(max_encoder_seq_length, \n",
        "                                                      input_texts)\n",
        "decoder_input_seq, target_token_index = text2sequences(max_decoder_seq_length, \n",
        "                                                       target_texts)\n",
        "\n",
        "print('shape of encoder_input_seq: ' + str(encoder_input_seq.shape))\n",
        "print('shape of input_token_index: ' + str(len(input_token_index)))\n",
        "print('shape of decoder_input_seq: ' + str(decoder_input_seq.shape))\n",
        "print('shape of target_token_index: ' + str(len(target_token_index)))"
      ],
      "execution_count": 8,
      "outputs": [
        {
          "output_type": "stream",
          "text": [
            "shape of encoder_input_seq: (25000, 18)\n",
            "shape of input_token_index: 27\n",
            "shape of decoder_input_seq: (25000, 56)\n",
            "shape of target_token_index: 29\n"
          ],
          "name": "stdout"
        }
      ]
    },
    {
      "cell_type": "code",
      "metadata": {
        "id": "Wz_SWTB3iw_H",
        "colab": {
          "base_uri": "https://localhost:8080/"
        },
        "outputId": "72cbb8bf-4936-459e-d527-102c3bf76d83"
      },
      "source": [
        "\n",
        "num_encoder_tokens = len(input_token_index) + 1\n",
        "num_decoder_tokens = len(target_token_index) + 1\n",
        "\n",
        "print('num_encoder_tokens: ' + str(num_encoder_tokens))\n",
        "print('num_decoder_tokens: ' + str(num_decoder_tokens))"
      ],
      "execution_count": 9,
      "outputs": [
        {
          "output_type": "stream",
          "text": [
            "num_encoder_tokens: 28\n",
            "num_decoder_tokens: 30\n"
          ],
          "name": "stdout"
        }
      ]
    },
    {
      "cell_type": "markdown",
      "metadata": {
        "id": "Hlg8Cnyniw_I"
      },
      "source": [
        "**Remark:** To this end, the input language and target language texts are converted to 2 matrices. \n",
        "\n",
        "- Their number of rows are both n_train.\n",
        "- Their number of columns are respective max_encoder_seq_length and max_decoder_seq_length."
      ]
    },
    {
      "cell_type": "markdown",
      "metadata": {
        "id": "ZeA7WVzQiw_I"
      },
      "source": [
        "The followings print a sentence and its representation as a sequence."
      ]
    },
    {
      "cell_type": "code",
      "metadata": {
        "id": "Fz-V8oiBiw_I",
        "colab": {
          "base_uri": "https://localhost:8080/",
          "height": 37
        },
        "outputId": "70c9514b-6055-49b5-a4fd-ce5f2e36cf97"
      },
      "source": [
        "target_texts[100]"
      ],
      "execution_count": 10,
      "outputs": [
        {
          "output_type": "execute_result",
          "data": {
            "application/vnd.google.colaboratory.intrinsic+json": {
              "type": "string"
            },
            "text/plain": [
              "'\\ttom est perdu\\n'"
            ]
          },
          "metadata": {
            "tags": []
          },
          "execution_count": 10
        }
      ]
    },
    {
      "cell_type": "code",
      "metadata": {
        "id": "JA43on00iw_J",
        "colab": {
          "base_uri": "https://localhost:8080/"
        },
        "outputId": "2a026b48-5c00-4410-c7da-c6145e82f355"
      },
      "source": [
        "decoder_input_seq[100, :]"
      ],
      "execution_count": 11,
      "outputs": [
        {
          "output_type": "execute_result",
          "data": {
            "text/plain": [
              "array([10,  5,  8, 14,  2,  1,  3,  5,  2, 16,  1, 12, 17,  9, 11,  0,  0,\n",
              "        0,  0,  0,  0,  0,  0,  0,  0,  0,  0,  0,  0,  0,  0,  0,  0,  0,\n",
              "        0,  0,  0,  0,  0,  0,  0,  0,  0,  0,  0,  0,  0,  0,  0,  0,  0,\n",
              "        0,  0,  0,  0,  0], dtype=int32)"
            ]
          },
          "metadata": {
            "tags": []
          },
          "execution_count": 11
        }
      ]
    },
    {
      "cell_type": "markdown",
      "metadata": {
        "id": "itL9qDsViw_J"
      },
      "source": [
        "## 2.2. One-hot encode\n",
        "\n",
        "- Input: A list of $n$ sentences (with max length $t$).\n",
        "- It is represented by a $n\\times t$ matrix after the tokenization and zero-padding.\n",
        "- It is represented by a $n\\times t \\times v$ tensor ($t$ is the number of unique chars) after the one-hot encoding."
      ]
    },
    {
      "cell_type": "code",
      "metadata": {
        "id": "J2DjMU11iw_J",
        "colab": {
          "base_uri": "https://localhost:8080/"
        },
        "outputId": "83806745-7861-4b92-f4b2-a68c764a9fa6"
      },
      "source": [
        "from keras.utils import to_categorical\n",
        "\n",
        "# one hot encode target sequence\n",
        "def onehot_encode(sequences, max_len, vocab_size):\n",
        "    n = len(sequences)\n",
        "    data = numpy.zeros((n, max_len, vocab_size))\n",
        "    for i in range(n):\n",
        "        data[i, :, :] = to_categorical(sequences[i], num_classes=vocab_size)\n",
        "    return data\n",
        "\n",
        "encoder_input_data = onehot_encode(encoder_input_seq, max_encoder_seq_length, num_encoder_tokens)\n",
        "decoder_input_data = onehot_encode(decoder_input_seq, max_decoder_seq_length, num_decoder_tokens)\n",
        "\n",
        "decoder_target_seq = numpy.zeros(decoder_input_seq.shape)\n",
        "decoder_target_seq[:, 0:-1] = decoder_input_seq[:, 1:]\n",
        "decoder_target_data = onehot_encode(decoder_target_seq, \n",
        "                                    max_decoder_seq_length, \n",
        "                                    num_decoder_tokens)\n",
        "\n",
        "print(encoder_input_data.shape)\n",
        "print(decoder_input_data.shape)"
      ],
      "execution_count": 12,
      "outputs": [
        {
          "output_type": "stream",
          "text": [
            "(25000, 18, 28)\n",
            "(25000, 56, 30)\n"
          ],
          "name": "stdout"
        }
      ]
    },
    {
      "cell_type": "markdown",
      "metadata": {
        "id": "8LOQPM_tiw_J"
      },
      "source": [
        "## 3. Build the networks (for training)\n",
        "\n",
        "- Build encoder, decoder, and connect the two modules to get \"model\". \n",
        "\n",
        "- Fit the model on the bilingual data to train the parameters in the encoder and decoder."
      ]
    },
    {
      "cell_type": "markdown",
      "metadata": {
        "id": "8UhTHwKviw_K"
      },
      "source": [
        "### 3.1. Encoder network\n",
        "\n",
        "- Input:  one-hot encode of the input language\n",
        "\n",
        "- Return: \n",
        "\n",
        "    -- output (all the hidden states   $h_1, \\cdots , h_t$) are always discarded\n",
        "    \n",
        "    -- the final hidden state  $h_t$\n",
        "    \n",
        "    -- the final conveyor belt $c_t$"
      ]
    },
    {
      "cell_type": "code",
      "metadata": {
        "id": "aC0PXfA8iw_K"
      },
      "source": [
        "from keras.layers import Input, LSTM\n",
        "from keras.models import Model\n",
        "\n",
        "latent_dim = 256\n",
        "\n",
        "# inputs of the encoder network\n",
        "encoder_inputs = Input(shape=(None, num_encoder_tokens), \n",
        "                       name='encoder_inputs')\n",
        "\n",
        "# # set the LSTM layer\n",
        "# encoder_lstm = LSTM(latent_dim, return_state=True, \n",
        "#                     dropout=0.5, name='encoder_lstm')\n",
        "# _, state_h, state_c = encoder_lstm(encoder_inputs)\n",
        "\n",
        "# # build the encoder network model\n",
        "# encoder_model = Model(inputs=encoder_inputs, \n",
        "#                       outputs=[state_h, state_c],\n",
        "#                       name='encoder')\n",
        "\n",
        "\n",
        "from keras.layers import Bidirectional, Concatenate\n",
        "\n",
        "encoder_bilstm = Bidirectional(LSTM(latent_dim, return_state=True, \n",
        "                                  dropout=0.5, name='encoder_lstm'))\n",
        "_, forward_h, forward_c, backward_h, backward_c = encoder_bilstm(encoder_inputs)\n",
        "\n",
        "state_h = Concatenate()([forward_h, backward_h])\n",
        "state_c = Concatenate()([forward_c, backward_c])\n",
        "\n",
        "# build the encoder network model\n",
        "encoder_model = Model(inputs=encoder_inputs, \n",
        "                      outputs=[state_h, state_c],\n",
        "                      name='encoder')"
      ],
      "execution_count": 13,
      "outputs": []
    },
    {
      "cell_type": "markdown",
      "metadata": {
        "id": "H69S4o8Uiw_K"
      },
      "source": [
        "Print a summary and save the encoder network structure to \"./encoder.pdf\""
      ]
    },
    {
      "cell_type": "code",
      "metadata": {
        "id": "YdbPX6qfiw_L",
        "colab": {
          "base_uri": "https://localhost:8080/"
        },
        "outputId": "4c9e29f4-1110-4f3d-cd3e-0152ded11fb9"
      },
      "source": [
        "from IPython.display import SVG\n",
        "from keras.utils.vis_utils import model_to_dot, plot_model\n",
        "\n",
        "SVG(model_to_dot(encoder_model, show_shapes=False).create(prog='dot', format='svg'))\n",
        "\n",
        "plot_model(\n",
        "    model=encoder_model, show_shapes=False,\n",
        "    to_file='encoder.pdf'\n",
        ")\n",
        "\n",
        "encoder_model.summary()"
      ],
      "execution_count": 14,
      "outputs": [
        {
          "output_type": "stream",
          "text": [
            "Model: \"encoder\"\n",
            "__________________________________________________________________________________________________\n",
            "Layer (type)                    Output Shape         Param #     Connected to                     \n",
            "==================================================================================================\n",
            "encoder_inputs (InputLayer)     [(None, None, 28)]   0                                            \n",
            "__________________________________________________________________________________________________\n",
            "bidirectional (Bidirectional)   [(None, 512), (None, 583680      encoder_inputs[0][0]             \n",
            "__________________________________________________________________________________________________\n",
            "concatenate (Concatenate)       (None, 512)          0           bidirectional[0][1]              \n",
            "                                                                 bidirectional[0][3]              \n",
            "__________________________________________________________________________________________________\n",
            "concatenate_1 (Concatenate)     (None, 512)          0           bidirectional[0][2]              \n",
            "                                                                 bidirectional[0][4]              \n",
            "==================================================================================================\n",
            "Total params: 583,680\n",
            "Trainable params: 583,680\n",
            "Non-trainable params: 0\n",
            "__________________________________________________________________________________________________\n"
          ],
          "name": "stdout"
        }
      ]
    },
    {
      "cell_type": "markdown",
      "metadata": {
        "id": "Ne0JbpTDiw_L"
      },
      "source": [
        "### 3.2. Decoder network\n",
        "\n",
        "- Inputs:  \n",
        "\n",
        "    -- one-hot encode of the target language\n",
        "    \n",
        "    -- The initial hidden state $h_t$ \n",
        "    \n",
        "    -- The initial conveyor belt $c_t$ \n",
        "\n",
        "- Return: \n",
        "\n",
        "    -- output (all the hidden states) $h_1, \\cdots , h_t$\n",
        "\n",
        "    -- the final hidden state  $h_t$ (discarded in the training and used in the prediction)\n",
        "    \n",
        "    -- the final conveyor belt $c_t$ (discarded in the training and used in the prediction)"
      ]
    },
    {
      "cell_type": "code",
      "metadata": {
        "id": "u0QlwAh0iw_L"
      },
      "source": [
        "\n",
        "from keras.layers import Input, LSTM, Dense\n",
        "from keras.models import Model\n",
        "de_dim = 512\n",
        "# inputs of the decoder network\n",
        "decoder_input_h = Input(shape=(de_dim,), name='decoder_input_h')\n",
        "decoder_input_c = Input(shape=(de_dim,), name='decoder_input_c')\n",
        "decoder_input_x = Input(shape=(None, num_decoder_tokens), name='decoder_input_x')\n",
        "# print(decoder_input_h.shape)\n",
        "\n",
        "# set the LSTM layer\n",
        "decoder_lstm = LSTM(de_dim, return_sequences=True, \n",
        "                    return_state=True, dropout=0.5, name='decoder_lstm')\n",
        "decoder_lstm_outputs, state_h, state_c = decoder_lstm(decoder_input_x, \n",
        "                                                      initial_state=[decoder_input_h, decoder_input_c])\n",
        "\n",
        "# set the dense layer\n",
        "decoder_dense = Dense(num_decoder_tokens, activation='softmax', name='decoder_dense')\n",
        "decoder_outputs = decoder_dense(decoder_lstm_outputs)\n",
        "\n",
        "# build the decoder network model\n",
        "decoder_model = Model(inputs=[decoder_input_x, decoder_input_h, decoder_input_c],\n",
        "                      outputs=[decoder_outputs, state_h, state_c],\n",
        "                      name='decoder')"
      ],
      "execution_count": 15,
      "outputs": []
    },
    {
      "cell_type": "markdown",
      "metadata": {
        "id": "EVG5R7HUiw_L"
      },
      "source": [
        "Print a summary and save the encoder network structure to \"./decoder.pdf\""
      ]
    },
    {
      "cell_type": "code",
      "metadata": {
        "id": "XyxfFEGniw_M",
        "colab": {
          "base_uri": "https://localhost:8080/"
        },
        "outputId": "4d5d6fc9-f9c7-417b-a4d0-8db5b52b4609"
      },
      "source": [
        "from IPython.display import SVG\n",
        "from keras.utils.vis_utils import model_to_dot, plot_model\n",
        "\n",
        "SVG(model_to_dot(decoder_model, show_shapes=False).create(prog='dot', format='svg'))\n",
        "\n",
        "plot_model(\n",
        "    model=decoder_model, show_shapes=False,\n",
        "    to_file='decoder.pdf'\n",
        ")\n",
        "\n",
        "decoder_model.summary()"
      ],
      "execution_count": 16,
      "outputs": [
        {
          "output_type": "stream",
          "text": [
            "Model: \"decoder\"\n",
            "__________________________________________________________________________________________________\n",
            "Layer (type)                    Output Shape         Param #     Connected to                     \n",
            "==================================================================================================\n",
            "decoder_input_x (InputLayer)    [(None, None, 30)]   0                                            \n",
            "__________________________________________________________________________________________________\n",
            "decoder_input_h (InputLayer)    [(None, 512)]        0                                            \n",
            "__________________________________________________________________________________________________\n",
            "decoder_input_c (InputLayer)    [(None, 512)]        0                                            \n",
            "__________________________________________________________________________________________________\n",
            "decoder_lstm (LSTM)             [(None, None, 512),  1112064     decoder_input_x[0][0]            \n",
            "                                                                 decoder_input_h[0][0]            \n",
            "                                                                 decoder_input_c[0][0]            \n",
            "__________________________________________________________________________________________________\n",
            "decoder_dense (Dense)           (None, None, 30)     15390       decoder_lstm[0][0]               \n",
            "==================================================================================================\n",
            "Total params: 1,127,454\n",
            "Trainable params: 1,127,454\n",
            "Non-trainable params: 0\n",
            "__________________________________________________________________________________________________\n"
          ],
          "name": "stdout"
        }
      ]
    },
    {
      "cell_type": "markdown",
      "metadata": {
        "id": "3mAqk4F-iw_M"
      },
      "source": [
        "### 3.3. Connect the encoder and decoder"
      ]
    },
    {
      "cell_type": "code",
      "metadata": {
        "id": "lzc4X1MQiw_M"
      },
      "source": [
        "# input layers\n",
        "encoder_input_x = Input(shape=(None, num_encoder_tokens), name='encoder_input_x')\n",
        "decoder_input_x = Input(shape=(None, num_decoder_tokens), name='decoder_input_x')\n",
        "\n",
        "# connect encoder to decoder\n",
        "encoder_final_states = encoder_model([encoder_input_x])\n",
        "decoder_lstm_output, _, _ = decoder_lstm(decoder_input_x, initial_state=encoder_final_states)\n",
        "decoder_pred = decoder_dense(decoder_lstm_output)\n",
        "\n",
        "model = Model(inputs=[encoder_input_x, decoder_input_x], \n",
        "              outputs=decoder_pred, \n",
        "              name='model_training')"
      ],
      "execution_count": 17,
      "outputs": []
    },
    {
      "cell_type": "code",
      "metadata": {
        "id": "SVmRYXhLiw_M",
        "colab": {
          "base_uri": "https://localhost:8080/"
        },
        "outputId": "8d46f714-199c-41dc-9783-5b29d857767f"
      },
      "source": [
        "print(state_h)\n",
        "print(decoder_input_h)"
      ],
      "execution_count": 18,
      "outputs": [
        {
          "output_type": "stream",
          "text": [
            "KerasTensor(type_spec=TensorSpec(shape=(None, 512), dtype=tf.float32, name=None), name='decoder_lstm/PartitionedCall:2', description=\"created by layer 'decoder_lstm'\")\n",
            "KerasTensor(type_spec=TensorSpec(shape=(None, 512), dtype=tf.float32, name='decoder_input_h'), name='decoder_input_h', description=\"created by layer 'decoder_input_h'\")\n"
          ],
          "name": "stdout"
        }
      ]
    },
    {
      "cell_type": "code",
      "metadata": {
        "id": "OfXTXGZ6iw_M",
        "colab": {
          "base_uri": "https://localhost:8080/"
        },
        "outputId": "42b8444d-82db-479d-a557-5eacbe932389"
      },
      "source": [
        "from IPython.display import SVG\n",
        "from keras.utils.vis_utils import model_to_dot, plot_model\n",
        "\n",
        "SVG(model_to_dot(model, show_shapes=False).create(prog='dot', format='svg'))\n",
        "\n",
        "plot_model(\n",
        "    model=model, show_shapes=False,\n",
        "    to_file='model_training.pdf'\n",
        ")\n",
        "\n",
        "model.summary()"
      ],
      "execution_count": 19,
      "outputs": [
        {
          "output_type": "stream",
          "text": [
            "Model: \"model_training\"\n",
            "__________________________________________________________________________________________________\n",
            "Layer (type)                    Output Shape         Param #     Connected to                     \n",
            "==================================================================================================\n",
            "encoder_input_x (InputLayer)    [(None, None, 28)]   0                                            \n",
            "__________________________________________________________________________________________________\n",
            "decoder_input_x (InputLayer)    [(None, None, 30)]   0                                            \n",
            "__________________________________________________________________________________________________\n",
            "encoder (Functional)            [(None, 512), (None, 583680      encoder_input_x[0][0]            \n",
            "__________________________________________________________________________________________________\n",
            "decoder_lstm (LSTM)             [(None, None, 512),  1112064     decoder_input_x[0][0]            \n",
            "                                                                 encoder[0][0]                    \n",
            "                                                                 encoder[0][1]                    \n",
            "__________________________________________________________________________________________________\n",
            "decoder_dense (Dense)           (None, None, 30)     15390       decoder_lstm[1][0]               \n",
            "==================================================================================================\n",
            "Total params: 1,711,134\n",
            "Trainable params: 1,711,134\n",
            "Non-trainable params: 0\n",
            "__________________________________________________________________________________________________\n"
          ],
          "name": "stdout"
        }
      ]
    },
    {
      "cell_type": "markdown",
      "metadata": {
        "id": "pyThUFqBiw_N"
      },
      "source": [
        "### 3.5. Fit the model on the bilingual dataset\n",
        "\n",
        "- encoder_input_data: one-hot encode of the input language\n",
        "\n",
        "- decoder_input_data: one-hot encode of the input language\n",
        "\n",
        "- decoder_target_data: labels (left shift of decoder_input_data)\n",
        "\n",
        "- tune the hyper-parameters\n",
        "\n",
        "- stop when the validation loss stop decreasing."
      ]
    },
    {
      "cell_type": "code",
      "metadata": {
        "id": "uQvyaJ25iw_N",
        "colab": {
          "base_uri": "https://localhost:8080/"
        },
        "outputId": "ce2ccb91-42a7-4ea2-f189-06e06bb41e5f"
      },
      "source": [
        "print('shape of encoder_input_data' + str(encoder_input_data.shape))\n",
        "print('shape of decoder_input_data' + str(decoder_input_data.shape))\n",
        "print('shape of decoder_target_data' + str(decoder_target_data.shape))"
      ],
      "execution_count": 20,
      "outputs": [
        {
          "output_type": "stream",
          "text": [
            "shape of encoder_input_data(25000, 18, 28)\n",
            "shape of decoder_input_data(25000, 56, 30)\n",
            "shape of decoder_target_data(25000, 56, 30)\n"
          ],
          "name": "stdout"
        }
      ]
    },
    {
      "cell_type": "code",
      "metadata": {
        "id": "k8bdZoJjiw_N",
        "colab": {
          "base_uri": "https://localhost:8080/"
        },
        "outputId": "dc2229f9-6f2d-4a83-dbb3-13cabce335cc"
      },
      "source": [
        "model.compile(optimizer='rmsprop', loss='categorical_crossentropy')\n",
        "\n",
        "model.fit([encoder_input_data, decoder_input_data],  # training data\n",
        "          decoder_target_data,                       # labels (left shift of the target sequences)\n",
        "          batch_size=64, epochs=50, validation_split=0.2)\n",
        "\n",
        "model.save('seq2seq.h5')"
      ],
      "execution_count": 21,
      "outputs": [
        {
          "output_type": "stream",
          "text": [
            "Epoch 1/50\n",
            "313/313 [==============================] - 24s 58ms/step - loss: 1.2940 - val_loss: 0.7445\n",
            "Epoch 2/50\n",
            "313/313 [==============================] - 16s 52ms/step - loss: 0.8110 - val_loss: 0.6413\n",
            "Epoch 3/50\n",
            "313/313 [==============================] - 16s 52ms/step - loss: 0.7450 - val_loss: 0.5887\n",
            "Epoch 4/50\n",
            "313/313 [==============================] - 16s 52ms/step - loss: 0.7049 - val_loss: 0.5534\n",
            "Epoch 5/50\n",
            "313/313 [==============================] - 16s 52ms/step - loss: 0.6787 - val_loss: 0.5256\n",
            "Epoch 6/50\n",
            "313/313 [==============================] - 16s 52ms/step - loss: 0.6612 - val_loss: 0.5030\n",
            "Epoch 7/50\n",
            "313/313 [==============================] - 16s 52ms/step - loss: 0.6393 - val_loss: 0.4847\n",
            "Epoch 8/50\n",
            "313/313 [==============================] - 16s 52ms/step - loss: 0.6212 - val_loss: 0.4681\n",
            "Epoch 9/50\n",
            "313/313 [==============================] - 16s 52ms/step - loss: 0.6085 - val_loss: 0.4565\n",
            "Epoch 10/50\n",
            "313/313 [==============================] - 16s 52ms/step - loss: 0.5939 - val_loss: 0.4458\n",
            "Epoch 11/50\n",
            "313/313 [==============================] - 16s 52ms/step - loss: 0.5865 - val_loss: 0.4353\n",
            "Epoch 12/50\n",
            "313/313 [==============================] - 16s 52ms/step - loss: 0.5720 - val_loss: 0.4251\n",
            "Epoch 13/50\n",
            "313/313 [==============================] - 16s 52ms/step - loss: 0.5638 - val_loss: 0.4157\n",
            "Epoch 14/50\n",
            "313/313 [==============================] - 16s 52ms/step - loss: 0.5555 - val_loss: 0.4098\n",
            "Epoch 15/50\n",
            "313/313 [==============================] - 16s 52ms/step - loss: 0.5532 - val_loss: 0.4009\n",
            "Epoch 16/50\n",
            "313/313 [==============================] - 16s 52ms/step - loss: 0.5391 - val_loss: 0.3949\n",
            "Epoch 17/50\n",
            "313/313 [==============================] - 16s 52ms/step - loss: 0.5345 - val_loss: 0.3898\n",
            "Epoch 18/50\n",
            "313/313 [==============================] - 16s 52ms/step - loss: 0.5303 - val_loss: 0.3864\n",
            "Epoch 19/50\n",
            "313/313 [==============================] - 16s 52ms/step - loss: 0.5234 - val_loss: 0.3792\n",
            "Epoch 20/50\n",
            "313/313 [==============================] - 16s 52ms/step - loss: 0.5123 - val_loss: 0.3760\n",
            "Epoch 21/50\n",
            "313/313 [==============================] - 16s 52ms/step - loss: 0.5106 - val_loss: 0.3721\n",
            "Epoch 22/50\n",
            "313/313 [==============================] - 16s 52ms/step - loss: 0.5075 - val_loss: 0.3668\n",
            "Epoch 23/50\n",
            "313/313 [==============================] - 16s 52ms/step - loss: 0.5026 - val_loss: 0.3653\n",
            "Epoch 24/50\n",
            "313/313 [==============================] - 16s 52ms/step - loss: 0.4995 - val_loss: 0.3635\n",
            "Epoch 25/50\n",
            "313/313 [==============================] - 16s 51ms/step - loss: 0.4937 - val_loss: 0.3590\n",
            "Epoch 26/50\n",
            "313/313 [==============================] - 16s 51ms/step - loss: 0.4903 - val_loss: 0.3557\n",
            "Epoch 27/50\n",
            "313/313 [==============================] - 16s 52ms/step - loss: 0.4833 - val_loss: 0.3555\n",
            "Epoch 28/50\n",
            "313/313 [==============================] - 16s 52ms/step - loss: 0.4820 - val_loss: 0.3519\n",
            "Epoch 29/50\n",
            "313/313 [==============================] - 16s 52ms/step - loss: 0.4786 - val_loss: 0.3507\n",
            "Epoch 30/50\n",
            "313/313 [==============================] - 16s 51ms/step - loss: 0.4736 - val_loss: 0.3469\n",
            "Epoch 31/50\n",
            "313/313 [==============================] - 16s 52ms/step - loss: 0.4718 - val_loss: 0.3475\n",
            "Epoch 32/50\n",
            "313/313 [==============================] - 16s 52ms/step - loss: 0.4700 - val_loss: 0.3442\n",
            "Epoch 33/50\n",
            "313/313 [==============================] - 16s 51ms/step - loss: 0.4654 - val_loss: 0.3427\n",
            "Epoch 34/50\n",
            "313/313 [==============================] - 16s 51ms/step - loss: 0.4602 - val_loss: 0.3384\n",
            "Epoch 35/50\n",
            "313/313 [==============================] - 16s 52ms/step - loss: 0.4577 - val_loss: 0.3379\n",
            "Epoch 36/50\n",
            "313/313 [==============================] - 16s 52ms/step - loss: 0.4556 - val_loss: 0.3379\n",
            "Epoch 37/50\n",
            "313/313 [==============================] - 16s 52ms/step - loss: 0.4565 - val_loss: 0.3366\n",
            "Epoch 38/50\n",
            "313/313 [==============================] - 16s 52ms/step - loss: 0.4527 - val_loss: 0.3357\n",
            "Epoch 39/50\n",
            "313/313 [==============================] - 16s 51ms/step - loss: 0.4515 - val_loss: 0.3324\n",
            "Epoch 40/50\n",
            "313/313 [==============================] - 16s 52ms/step - loss: 0.4495 - val_loss: 0.3325\n",
            "Epoch 41/50\n",
            "313/313 [==============================] - 16s 51ms/step - loss: 0.4401 - val_loss: 0.3320\n",
            "Epoch 42/50\n",
            "313/313 [==============================] - 16s 51ms/step - loss: 0.4433 - val_loss: 0.3304\n",
            "Epoch 43/50\n",
            "313/313 [==============================] - 16s 52ms/step - loss: 0.4376 - val_loss: 0.3279\n",
            "Epoch 44/50\n",
            "313/313 [==============================] - 16s 52ms/step - loss: 0.4369 - val_loss: 0.3278\n",
            "Epoch 45/50\n",
            "313/313 [==============================] - 16s 52ms/step - loss: 0.4359 - val_loss: 0.3286\n",
            "Epoch 46/50\n",
            "313/313 [==============================] - 16s 52ms/step - loss: 0.4316 - val_loss: 0.3278\n",
            "Epoch 47/50\n",
            "313/313 [==============================] - 16s 52ms/step - loss: 0.4302 - val_loss: 0.3265\n",
            "Epoch 48/50\n",
            "313/313 [==============================] - 16s 52ms/step - loss: 0.4268 - val_loss: 0.3271\n",
            "Epoch 49/50\n",
            "313/313 [==============================] - 16s 51ms/step - loss: 0.4277 - val_loss: 0.3220\n",
            "Epoch 50/50\n",
            "313/313 [==============================] - 16s 52ms/step - loss: 0.4248 - val_loss: 0.3209\n"
          ],
          "name": "stdout"
        }
      ]
    },
    {
      "cell_type": "markdown",
      "metadata": {
        "id": "rlDx9otmiw_N"
      },
      "source": [
        "## 4. Make predictions\n",
        "\n",
        "\n",
        "### 4.1. Translate English to French\n",
        "\n",
        "1. Encoder read a sentence (source language) and output its final states, $h_t$ and $c_t$.\n",
        "2. Take the [star] sign \"\\t\" and the final state $h_t$ and $c_t$ as input and run the decoder.\n",
        "3. Get the new states and predicted probability distribution.\n",
        "4. sample a char from the predicted probability distribution\n",
        "5. take the sampled char and the new states as input and repeat the process (stop if reach the [stop] sign \"\\n\")."
      ]
    },
    {
      "cell_type": "code",
      "metadata": {
        "id": "vqyryCiGiw_O"
      },
      "source": [
        "# Reverse-lookup token index to decode sequences back to something readable.\n",
        "reverse_input_char_index = dict((i, char) for char, i in input_token_index.items())\n",
        "reverse_target_char_index = dict((i, char) for char, i in target_token_index.items())"
      ],
      "execution_count": 22,
      "outputs": []
    },
    {
      "cell_type": "code",
      "metadata": {
        "id": "TQDDXqqfiw_O"
      },
      "source": [
        "def decode_sequence(input_seq):\n",
        "    states_value = encoder_model.predict(input_seq)\n",
        "\n",
        "    target_seq = numpy.zeros((1, 1, num_decoder_tokens))\n",
        "    target_seq[0, 0, target_token_index['\\t']] = 1.\n",
        "\n",
        "    stop_condition = False\n",
        "    decoded_sentence = ''\n",
        "    while not stop_condition:\n",
        "        output_tokens, h, c = decoder_model.predict([target_seq] + states_value)\n",
        "\n",
        "        # this line of code is greedy selection\n",
        "        # try to use multinomial sampling instead (with temperature)\n",
        "        sampled_token_index = numpy.argmax(output_tokens[0, -1, :])\n",
        "        \n",
        "        sampled_char = reverse_target_char_index[sampled_token_index]\n",
        "        decoded_sentence += sampled_char\n",
        "\n",
        "        if (sampled_char == '\\n' or\n",
        "           len(decoded_sentence) > max_decoder_seq_length):\n",
        "            stop_condition = True\n",
        "\n",
        "        target_seq = numpy.zeros((1, 1, num_decoder_tokens))\n",
        "        target_seq[0, 0, sampled_token_index] = 1.\n",
        "\n",
        "        states_value = [h, c]\n",
        "\n",
        "    return decoded_sentence\n"
      ],
      "execution_count": 23,
      "outputs": []
    },
    {
      "cell_type": "code",
      "metadata": {
        "id": "VwlHAs1Eiw_O",
        "colab": {
          "base_uri": "https://localhost:8080/"
        },
        "outputId": "326ce126-9412-4e75-bd13-5c98531ca1bf"
      },
      "source": [
        "for seq_index in range(2100, 2120):\n",
        "    # Take one sequence (part of the training set)\n",
        "    # for trying out decoding.\n",
        "    input_seq = encoder_input_data[seq_index: seq_index + 1]\n",
        "    decoded_sentence = decode_sequence(input_seq)\n",
        "    print('-')\n",
        "    print('English:       ', input_texts[seq_index])\n",
        "    print('French (true): ', target_texts[seq_index][1:-1])\n",
        "    print('French (pred): ', decoded_sentence[0:-1])\n"
      ],
      "execution_count": 24,
      "outputs": [
        {
          "output_type": "stream",
          "text": [
            "-\n",
            "English:        im such a fool\n",
            "French (true):  je suis un tel idiot\n",
            "French (pred):  je suis au bon garcon\n",
            "-\n",
            "English:        horses run fast\n",
            "French (true):  un cheval court vite\n",
            "French (pred):  les cheveux sont disgues\n",
            "-\n",
            "English:        is that healthy\n",
            "French (true):  estce sain\n",
            "French (pred):  estce le chat\n",
            "-\n",
            "English:        it looks easy\n",
            "French (true):  ca a lair facile\n",
            "French (pred):  ca a lair fon\n",
            "-\n",
            "English:        i smoke cigarettes\n",
            "French (true):  je fume des cigarettes\n",
            "French (pred):  jai araive des prectes\n",
            "-\n",
            "English:        i have to do it\n",
            "French (true):  je dois le faire\n",
            "French (pred):  il me faut ce saire\n",
            "-\n",
            "English:        was tom hurt\n",
            "French (true):  tom atil ete blesse\n",
            "French (pred):  tom etaitil en securite\n",
            "-\n",
            "English:        did tom eat\n",
            "French (true):  estce que tom a mange\n",
            "French (pred):  tom atil ate vu\n",
            "-\n",
            "English:        im overreacting\n",
            "French (true):  je surreagis\n",
            "French (pred):  je ne suis pas en train de parler\n",
            "-\n",
            "English:        are you happy\n",
            "French (true):  estu contente\n",
            "French (pred):  etesvous heureux\n",
            "-\n",
            "English:        apples are red\n",
            "French (true):  les pommes sont rouges\n",
            "French (pred):  les preveux sont bonges\n",
            "-\n",
            "English:        hello how are you\n",
            "French (true):  salut ca va\n",
            "French (pred):  il vous a trutes paute\n",
            "-\n",
            "English:        i like to sing\n",
            "French (true):  jaime chanter\n",
            "French (pred):  jaime chanter\n",
            "-\n",
            "English:        i see\n",
            "French (true):  aha\n",
            "French (pred):  je suis tombe\n",
            "-\n",
            "English:        talk to me\n",
            "French (true):  parlezmoi\n",
            "French (pred):  parlez tom\n",
            "-\n",
            "English:        help tom\n",
            "French (true):  aide tom\n",
            "French (pred):  aidez tom\n",
            "-\n",
            "English:        i still do that\n",
            "French (true):  je le fais encore\n",
            "French (pred):  je devrais y aller\n",
            "-\n",
            "English:        i was elected\n",
            "French (true):  jai ete elue\n",
            "French (pred):  jai ete inquee\n",
            "-\n",
            "English:        ive got my pride\n",
            "French (true):  jai ma fierte\n",
            "French (pred):  jai de mon mieux\n",
            "-\n",
            "English:        tom is very angry\n",
            "French (true):  tom est tres en colere\n",
            "French (pred):  tom est tres gantil\n"
          ],
          "name": "stdout"
        }
      ]
    },
    {
      "cell_type": "markdown",
      "metadata": {
        "id": "QHTzdQ2Siw_O"
      },
      "source": [
        "### 4.2. Translate an English sentence to the target language\n",
        "\n",
        "1. Tokenization\n",
        "2. One-hot encode\n",
        "3. Translate"
      ]
    },
    {
      "cell_type": "code",
      "metadata": {
        "id": "mUSsfX5iiw_O",
        "colab": {
          "base_uri": "https://localhost:8080/"
        },
        "outputId": "845677f0-6eed-4917-bc87-ea0ee15135a6"
      },
      "source": [
        "input_sentence = ['i love you']\n",
        "encoder_input_seq,l= text2sequences(max_encoder_seq_length,input_sentence)\n",
        "input_x = onehot_encode(encoder_input_seq, max_encoder_seq_length, num_encoder_tokens)\n",
        "translated_sentence = decode_sequence(input_x)\n",
        "\n",
        "print('source sentence is: ' + str(input_sentence))\n",
        "print('translated sentence is: ' + translated_sentence)\n",
        "\n",
        "input_sentence = ['i like you']\n",
        "encoder_input_seq,l= text2sequences(max_encoder_seq_length,input_sentence)\n",
        "input_x = onehot_encode(encoder_input_seq, max_encoder_seq_length, num_encoder_tokens)\n",
        "translated_sentence = decode_sequence(input_x)\n",
        "\n",
        "print('source sentence is: ' + str(input_sentence))\n",
        "print('translated sentence is: ' + translated_sentence)"
      ],
      "execution_count": 25,
      "outputs": [
        {
          "output_type": "stream",
          "text": [
            "source sentence is: ['i love you']\n",
            "translated sentence is: aidez a linterieur\n",
            "\n",
            "source sentence is: ['i like you']\n",
            "translated sentence is: je men sertie\n",
            "\n"
          ],
          "name": "stdout"
        }
      ]
    },
    {
      "cell_type": "markdown",
      "metadata": {
        "id": "Tu0ZjB_1iw_P"
      },
      "source": [
        "## 5. Evaluate the translation using BLEU score\n",
        "\n",
        "Reference: \n",
        "- https://machinelearningmastery.com/calculate-bleu-score-for-text-python/\n",
        "- https://en.wikipedia.org/wiki/BLEU\n",
        "\n",
        "\n",
        "**Hint:** \n",
        "\n",
        "- Randomly partition the dataset to training, validation, and test. \n",
        "\n",
        "- Evaluate the BLEU score using the test set. Report the average.\n",
        "\n",
        "- A reasonable BLEU score should be 0.1 ~ 0.5."
      ]
    },
    {
      "cell_type": "code",
      "metadata": {
        "id": "u_ivhUYNA-WA"
      },
      "source": [
        "\n",
        "doc = load_doc(filename)\n",
        "\n",
        "# split into Language1-Language2 pairs\n",
        "pairs = to_pairs(doc)\n",
        "\n",
        "# clean sentences\n",
        "test_dt = clean_data(pairs)[test_indices,:]"
      ],
      "execution_count": 27,
      "outputs": []
    },
    {
      "cell_type": "code",
      "metadata": {
        "colab": {
          "base_uri": "https://localhost:8080/"
        },
        "id": "egamqhE1BseZ",
        "outputId": "82a5c423-3212-4f00-9069-04e75e458bb8"
      },
      "source": [
        "test_n = len(test_dt)\n",
        "print(test_n)"
      ],
      "execution_count": 33,
      "outputs": [
        {
          "output_type": "stream",
          "text": [
            "5000\n"
          ],
          "name": "stdout"
        }
      ]
    },
    {
      "cell_type": "code",
      "metadata": {
        "id": "BphJpo2cCB_B"
      },
      "source": [
        "from nltk.translate.bleu_score import sentence_bleu\n",
        "from nltk.translate.bleu_score import SmoothingFunction\n",
        "smoothie = SmoothingFunction().method4\n",
        "bleu_list = []\n",
        "for n in range(test_n):\n",
        "  test_str = test_dt[n][0]\n",
        "  target_sentence = test_dt[n][1]\n",
        "  input_sentence = [test_str]\n",
        "  # print(n,input_sentence,target_sentence)\n",
        "  encoder_input_seq,l= text2sequences(max_encoder_seq_length,input_sentence)\n",
        "  input_x = onehot_encode(encoder_input_seq, max_encoder_seq_length, num_encoder_tokens)\n",
        "  # there are some bugs that would happen in the translation process\n",
        "  # i guess it becomes from some words weren't leanred(trained) due to disorganizing dataset\n",
        "  # so i use try-except to ignore bugs\n",
        "  try:\n",
        "    translated_sentence = decode_sequence(input_x)\n",
        "  except KeyError as err:\n",
        "    continue\n",
        "  score = sentence_bleu(target_sentence, translated_sentence,smoothing_function=smoothie)\n",
        "  bleu_list.append(score)\n"
      ],
      "execution_count": 54,
      "outputs": []
    },
    {
      "cell_type": "code",
      "metadata": {
        "colab": {
          "base_uri": "https://localhost:8080/"
        },
        "id": "pKm5IbseIzYN",
        "outputId": "6670af05-8c5a-4e15-c9b5-31c5f400c35c"
      },
      "source": [
        "print('BLEU score is:',numpy.mean(bleu_list))"
      ],
      "execution_count": 55,
      "outputs": [
        {
          "output_type": "stream",
          "text": [
            "BLEU score is: 0.29217377566945885\n"
          ],
          "name": "stdout"
        }
      ]
    },
    {
      "cell_type": "code",
      "metadata": {
        "id": "tyeMlpHLFmHH"
      },
      "source": [
        ""
      ],
      "execution_count": null,
      "outputs": []
    }
  ]
}